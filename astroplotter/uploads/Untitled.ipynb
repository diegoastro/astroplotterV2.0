{
 "cells": [
  {
   "cell_type": "code",
   "execution_count": 5,
   "id": "d064142d-e597-432f-8183-0b7eb11197c4",
   "metadata": {},
   "outputs": [],
   "source": [
    "import pandas as pd\n",
    "import numpy as np\n",
    "import matplotlib.pyplot as plt\n",
    "import scipy.optimize as sc\n",
    "import plotly.graph_objects as go\n",
    "from ipywidgets import VBox"
   ]
  },
  {
   "cell_type": "code",
   "execution_count": 2,
   "id": "18912b65-de5e-4939-a009-2f256a092e74",
   "metadata": {},
   "outputs": [
    {
     "data": {
      "text/plain": [
       "['Unnamed: 0', 'Ic', 'errIc', 'J', 'errJ', 'Ic-J', 'M', 'log(M)']"
      ]
     },
     "execution_count": 2,
     "metadata": {},
     "output_type": "execute_result"
    }
   ],
   "source": [
    "dt = pd.read_csv('data1.csv').dropna()\n",
    "\n",
    "dt.columns.tolist()"
   ]
  },
  {
   "cell_type": "markdown",
   "id": "48c1e65a-d783-45a8-a562-03709d440d64",
   "metadata": {},
   "source": [
    "Plot del CMD, con un colobar log(M). Necesito averiguar si se ajustaron dos isocronas o simplemente de un grafico de fill_between() como bandas de confianza.\n"
   ]
  },
  {
   "cell_type": "code",
   "execution_count": 3,
   "id": "74e22396-33ed-435d-8ea1-2bff93ee0043",
   "metadata": {},
   "outputs": [],
   "source": [
    "import plotly.graph_objects as go\n",
    "\n",
    "columns = [dt['Unnamed: 0'], dt['Ic'], dt['errIc'], dt['J'],dt['errJ'], dt['Ic-J'], dt['M'], dt['log(M)']]\n",
    "\n",
    "def updatePlotData(index, columns):\n",
    "    star_data = dt[index]\n",
    "    return {col: star_data[col] for col in columns}"
   ]
  },
  {
   "cell_type": "code",
   "execution_count": 6,
   "id": "af03916d-a91b-43c1-bb77-47a08325aed0",
   "metadata": {},
   "outputs": [
    {
     "data": {
      "application/vnd.jupyter.widget-view+json": {
       "model_id": "efaf59476f9e429cb8c01d56a21e99f7",
       "version_major": 2,
       "version_minor": 0
      },
      "text/plain": [
       "VBox(children=(FigureWidget({\n",
       "    'data': [{'hovertemplate': 'Color: %{x}<br>Magnitude: %{y}<extra></extra>',\n",
       "…"
      ]
     },
     "metadata": {},
     "output_type": "display_data"
    }
   ],
   "source": [
    "# Calculate the color\n",
    "color = dt['Ic'] - dt['J']\n",
    "mass = dt['log(M)']\n",
    "\n",
    "# Add the color as a new column to the table (optional)\n",
    "dt['Color'] = color\n",
    "\n",
    "# Create the figure\n",
    "fig = go.FigureWidget()\n",
    "\n",
    "# Add the CMD scatter plot\n",
    "scatter = fig.add_trace(go.Scatter(\n",
    "    x=dt['Color'],  # Color (e.g., Ic - J)\n",
    "    y=dt['Ic'],  # Magnitude (e.g., Ic)\n",
    "    mode='markers',\n",
    "    marker=dict(\n",
    "        size=5,\n",
    "        color=dt['log(M)'],  \n",
    "        colorscale='Rainbow',\n",
    "        colorbar=dict(title='log(M)'),\n",
    "        showscale=True,\n",
    "        reversescale=True\n",
    "    ),\n",
    "    hovertemplate='Color: %{x}<br>Magnitude: %{y}<extra></extra>',\n",
    "    name='CMD'\n",
    "))\n",
    "\n",
    "# Invert the y-axis for magnitude\n",
    "fig.update_yaxes(autorange='reversed')\n",
    "\n",
    "# Update layout\n",
    "fig.update_layout(\n",
    "    title='Color-Magnitude Diagram (CMD)',\n",
    "    xaxis_title='Ic - J',\n",
    "    yaxis_title='Ic',\n",
    "    height=600,\n",
    "    width=800\n",
    ")\n",
    "\n",
    "# Create a table FigureWidget that updates on selection from points in the scatter plot of f\n",
    "table = go.FigureWidget([go.Table(\n",
    "    header=dict(values=['Ic', 'errIc', 'J', 'errJ', 'Ic-J', 'M', 'log(M)'],\n",
    "                fill=dict(color='#C2D4FF'),\n",
    "                align=['left'] * 5),\n",
    "    cells=dict(values=[dt[col] for col in ['Ic', 'errIc', 'J', 'errJ', 'Color', 'M', 'log(M)']],\n",
    "               fill=dict(color='#F5F8FF'),\n",
    "               align=['left'] * 5))\n",
    "])\n",
    "\n",
    "# Function to update the table on selection\n",
    "def selection_fn(trace, points, selector):\n",
    "    inds = points.point_inds\n",
    "    if inds:\n",
    "        selected_data = dt.iloc[inds]\n",
    "        table.data[0].cells.values = [selected_data[col].tolist() for col in ['Ic', 'errIc', 'J', 'errJ', 'Color', 'M', 'log(M)']]\n",
    "    else:\n",
    "        table.data[0].cells.values = [dt[col].tolist() for col in ['Ic', 'errIc', 'J', 'errJ', 'Color', 'M', 'log(M)']]\n",
    "\n",
    "fig.data[0].on_selection(selection_fn)\n",
    "\n",
    "# Display the figure and table\n",
    "display(VBox([fig, table]))"
   ]
  },
  {
   "cell_type": "code",
   "execution_count": 11,
   "id": "7c8ea84b-ca32-46fa-b0f0-adda9a921a19",
   "metadata": {},
   "outputs": [
    {
     "data": {
      "application/vnd.jupyter.widget-view+json": {
       "model_id": "740c5bfac4144d69af47b605a96f40ee",
       "version_major": 2,
       "version_minor": 0
      },
      "text/plain": [
       "VBox(children=(FigureWidget({\n",
       "    'data': [{'hovertemplate': 'Color: %{x}<br>Magnitude: %{y}<extra></extra>',\n",
       "…"
      ]
     },
     "metadata": {},
     "output_type": "display_data"
    }
   ],
   "source": [
    "# Sample data for demonstration\n",
    "data = {\n",
    "    'Ic': [10, 15, 20, 5, 25, 10],\n",
    "    'errIc': [0.1, 0.2, 0.15, 0.1, 0.2, 0.1],\n",
    "    'J': [8, 12, 18, 3, 20, 7],\n",
    "    'errJ': [0.05, 0.1, 0.08, 0.05, 0.1, 0.05],\n",
    "    'M': [1, 0.5, 0.2, 0.8, 0.3, 0.6],\n",
    "    'log(M)': [0, -0.301, -0.699, -0.097, -0.522, -0.222]\n",
    "}\n",
    "\n",
    "# Create DataFrame\n",
    "dt = pd.DataFrame(data)\n",
    "dt['Color'] = dt['Ic'] - dt['J']\n",
    "\n",
    "# Create scatter plot figure\n",
    "fig = go.FigureWidget()\n",
    "\n",
    "scatter = fig.add_trace(go.Scatter(\n",
    "    x=dt['Color'],\n",
    "    y=dt['Ic'],\n",
    "    mode='markers',\n",
    "    marker=dict(\n",
    "        size=5,\n",
    "        color=dt['log(M)'],\n",
    "        colorscale='Rainbow',\n",
    "        colorbar=dict(title='log(M)'),\n",
    "        showscale=True,\n",
    "        reversescale=True\n",
    "    ),\n",
    "    hovertemplate='Color: %{x}<br>Magnitude: %{y}<extra></extra>',\n",
    "    name='CMD'\n",
    "))\n",
    "\n",
    "# Invert the y-axis for magnitude\n",
    "fig.update_yaxes(autorange='reversed')\n",
    "\n",
    "# Update layout\n",
    "fig.update_layout(\n",
    "    title='Color-Magnitude Diagram (CMD)',\n",
    "    xaxis_title='Ic - J',\n",
    "    yaxis_title='Ic',\n",
    "    height=600,\n",
    "    width=800\n",
    ")\n",
    "\n",
    "# Create a table figure widget\n",
    "table = go.FigureWidget([go.Table(\n",
    "    header=dict(values=['Ic', 'errIc', 'J', 'errJ', 'Color', 'M', 'log(M)'],\n",
    "                fill_color='#C2D4FF',\n",
    "                align='left'),\n",
    "    cells=dict(values=[dt[col] for col in ['Ic', 'errIc', 'J', 'errJ', 'Color', 'M', 'log(M)']],\n",
    "               fill_color='#F5F8FF',\n",
    "               align='left'))\n",
    "])\n",
    "\n",
    "# Function to update the table based on scatter plot selection\n",
    "def selection_fn(trace, points, selector):\n",
    "    inds = points.point_inds\n",
    "    if inds:\n",
    "        selected_data = dt.iloc[inds]\n",
    "        table.data[0].cells.values = [selected_data[col].tolist() for col in ['Ic', 'errIc', 'J', 'errJ', 'Color', 'M', 'log(M)']]\n",
    "    else:\n",
    "        table.data[0].cells.values = [dt[col].tolist() for col in ['Ic', 'errIc', 'J', 'errJ', 'Color', 'M', 'log(M)']]\n",
    "\n",
    "# Link the selection function to the scatter plot\n",
    "fig.data[0].on_selection(selection_fn)\n",
    "\n",
    "# Display the figure and table in a VBox\n",
    "display(VBox([fig, table]))"
   ]
  },
  {
   "cell_type": "code",
   "execution_count": 10,
   "id": "1a1d322b-fa0f-4caf-87fd-48a2e1776ee1",
   "metadata": {},
   "outputs": [],
   "source": [
    "# mass_function_hist=np.histogram(dt['log(M)'], bins = 20)\n",
    "# mass_function_data = [mass_function_hist[0], 0.5 * (mass_function_hist[1][1:] + mass_function_hist[1][:-1])]\n",
    "# xdata = mass_function_data[1]\n",
    "# ydata = mass_function_data[0]\n",
    "\n",
    "# # Plotting the main data\n",
    "# plt.errorbar(xdata,ydata, yerr = np.sqrt(ydata), marker = 'o')\n",
    "# plt.yscale('log')\n",
    "# plt.ylabel('$\\log_{10}(N)')\n",
    "# plt.grid(True,alpha=0.3)"
   ]
  },
  {
   "cell_type": "code",
   "execution_count": 11,
   "id": "8d1561f1-e684-4a41-a3b3-276bc50c04f7",
   "metadata": {},
   "outputs": [
    {
     "data": {
      "text/plain": [
       "array([  16,   42,   98,  241,  355,  583,  799, 1109, 1234, 1328, 1260,\n",
       "       1025,  796,  521,  292,  153,   75,   43,   13,    5], dtype=int64)"
      ]
     },
     "execution_count": 11,
     "metadata": {},
     "output_type": "execute_result"
    },
    {
     "data": {
      "image/png": "[encoded data removed]",
      "text/plain": [
       "<Figure size 640x480 with 1 Axes>"
      ]
     },
     "metadata": {},
     "output_type": "display_data"
    }
   ],
   "source": [
    "# Calcular los datos de la función de masa\n",
    "hist_data = np.histogram(dt['log(M)'], bins=20)\n",
    "mass_function_data = [hist_data[0], 0.5 * (hist_data[1][1:] + hist_data[1][:-1])] #promedio de los puntos para evitar que se corra el hist\n",
    "mass_function_data_2=[hist_data[0], hist_data[1][1:]]\n",
    "\n",
    "xdata = mass_function_data[1]\n",
    "ydata = mass_function_data[0]\n",
    "\n",
    "xdata_2 = mass_function_data_2[1]\n",
    "ydata_2 = mass_function_data_2[0]\n",
    "\n",
    "\n",
    "plt.hist(dt['log(M)'],bins=20)\n",
    "plt.plot(xdata_2,ydata_2,'ok')\n",
    "plt.plot(xdata,ydata,'or')\n",
    "hist_data[0]"
   ]
  },
  {
   "cell_type": "code",
   "execution_count": 12,
   "id": "c2a97fff-e474-47c7-840c-3492eaf953fd",
   "metadata": {},
   "outputs": [
    {
     "data": {
      "application/vnd.plotly.v1+json": {
       "config": {
        "plotlyServerURL": "https://plot.ly"
       },
       "data": [
        {
         "error_y": {
          "array": [
           4,
           6.48074069840786,
           9.899494936611665,
           15.524174696260024,
           18.841443681416774,
           24.145392935299274,
           28.26658805020514,
           33.301651610693426,
           35.12833614050059,
           36.4417343165772,
           35.4964786985977,
           32.01562118716424,
           28.21347195933177,
           22.825424421026653,
           17.08800749063506,
           12.36931687685298,
           8.660254037844387,
           6.557438524302,
           3.605551275463989,
           2.23606797749979
          ],
          "type": "data",
          "visible": true
         },
         "hovertemplate": "IMF adjustment",
         "marker": {
          "color": [
           -1.9155017838492836,
           -1.7591078898440506,
           -1.6027139958388177,
           -1.4463201018335845,
           -1.2899262078283515,
           -1.1335323138231184,
           -0.9771384198178854,
           -0.8207445258126524,
           -0.6643506318074195,
           -0.5079567378021865,
           -0.35156284379695346,
           -0.1951689497917204,
           -0.03877505578648732,
           0.11761883821874575,
           0.2740127322239787,
           0.43040662622921166,
           0.5868005202344446,
           0.7431944142396776,
           0.8995883082449105,
           1.0559822022501435
          ],
          "colorscale": [
           [
            0,
            "rgb(150,0,90)"
           ],
           [
            0.125,
            "rgb(0,0,200)"
           ],
           [
            0.25,
            "rgb(0,25,255)"
           ],
           [
            0.375,
            "rgb(0,152,255)"
           ],
           [
            0.5,
            "rgb(44,255,150)"
           ],
           [
            0.625,
            "rgb(151,255,0)"
           ],
           [
            0.75,
            "rgb(255,234,0)"
           ],
           [
            0.875,
            "rgb(255,111,0)"
           ],
           [
            1,
            "rgb(255,0,0)"
           ]
          ],
          "reversescale": true,
          "showscale": false,
          "size": 5
         },
         "mode": "markers",
         "name": "IMF",
         "type": "scatter",
         "x": [
          -1.9155017838492836,
          -1.7591078898440506,
          -1.6027139958388177,
          -1.4463201018335845,
          -1.2899262078283515,
          -1.1335323138231184,
          -0.9771384198178854,
          -0.8207445258126524,
          -0.6643506318074195,
          -0.5079567378021865,
          -0.35156284379695346,
          -0.1951689497917204,
          -0.03877505578648732,
          0.11761883821874575,
          0.2740127322239787,
          0.43040662622921166,
          0.5868005202344446,
          0.7431944142396776,
          0.8995883082449105,
          1.0559822022501435
         ],
         "y": [
          16,
          42,
          98,
          241,
          355,
          583,
          799,
          1109,
          1234,
          1328,
          1260,
          1025,
          796,
          521,
          292,
          153,
          75,
          43,
          13,
          5
         ]
        }
       ],
       "layout": {
        "height": 600,
        "template": {
         "data": {
          "bar": [
           {
            "error_x": {
             "color": "#2a3f5f"
            },
            "error_y": {
             "color": "#2a3f5f"
            },
            "marker": {
             "line": {
              "color": "#E5ECF6",
              "width": 0.5
             },
             "pattern": {
              "fillmode": "overlay",
              "size": 10,
              "solidity": 0.2
             }
            },
            "type": "bar"
           }
          ],
          "barpolar": [
           {
            "marker": {
             "line": {
              "color": "#E5ECF6",
              "width": 0.5
             },
             "pattern": {
              "fillmode": "overlay",
              "size": 10,
              "solidity": 0.2
             }
            },
            "type": "barpolar"
           }
          ],
          "carpet": [
           {
            "aaxis": {
             "endlinecolor": "#2a3f5f",
             "gridcolor": "white",
             "linecolor": "white",
             "minorgridcolor": "white",
             "startlinecolor": "#2a3f5f"
            },
            "baxis": {
             "endlinecolor": "#2a3f5f",
             "gridcolor": "white",
             "linecolor": "white",
             "minorgridcolor": "white",
             "startlinecolor": "#2a3f5f"
            },
            "type": "carpet"
           }
          ],
          "choropleth": [
           {
            "colorbar": {
             "outlinewidth": 0,
             "ticks": ""
            },
            "type": "choropleth"
           }
          ],
          "contour": [
           {
            "colorbar": {
             "outlinewidth": 0,
             "ticks": ""
            },
            "colorscale": [
             [
              0,
              "#0d0887"
             ],
             [
              0.1111111111111111,
              "#46039f"
             ],
             [
              0.2222222222222222,
              "#7201a8"
             ],
             [
              0.3333333333333333,
              "#9c179e"
             ],
             [
              0.4444444444444444,
              "#bd3786"
             ],
             [
              0.5555555555555556,
              "#d8576b"
             ],
             [
              0.6666666666666666,
              "#ed7953"
             ],
             [
              0.7777777777777778,
              "#fb9f3a"
             ],
             [
              0.8888888888888888,
              "#fdca26"
             ],
             [
              1,
              "#f0f921"
             ]
            ],
            "type": "contour"
           }
          ],
          "contourcarpet": [
           {
            "colorbar": {
             "outlinewidth": 0,
             "ticks": ""
            },
            "type": "contourcarpet"
           }
          ],
          "heatmap": [
           {
            "colorbar": {
             "outlinewidth": 0,
             "ticks": ""
            },
            "colorscale": [
             [
              0,
              "#0d0887"
             ],
             [
              0.1111111111111111,
              "#46039f"
             ],
             [
              0.2222222222222222,
              "#7201a8"
             ],
             [
              0.3333333333333333,
              "#9c179e"
             ],
             [
              0.4444444444444444,
              "#bd3786"
             ],
             [
              0.5555555555555556,
              "#d8576b"
             ],
             [
              0.6666666666666666,
              "#ed7953"
             ],
             [
              0.7777777777777778,
              "#fb9f3a"
             ],
             [
              0.8888888888888888,
              "#fdca26"
             ],
             [
              1,
              "#f0f921"
             ]
            ],
            "type": "heatmap"
           }
          ],
          "heatmapgl": [
           {
            "colorbar": {
             "outlinewidth": 0,
             "ticks": ""
            },
            "colorscale": [
             [
              0,
              "#0d0887"
             ],
             [
              0.1111111111111111,
              "#46039f"
             ],
             [
              0.2222222222222222,
              "#7201a8"
             ],
             [
              0.3333333333333333,
              "#9c179e"
             ],
             [
              0.4444444444444444,
              "#bd3786"
             ],
             [
              0.5555555555555556,
              "#d8576b"
             ],
             [
              0.6666666666666666,
              "#ed7953"
             ],
             [
              0.7777777777777778,
              "#fb9f3a"
             ],
             [
              0.8888888888888888,
              "#fdca26"
             ],
             [
              1,
              "#f0f921"
             ]
            ],
            "type": "heatmapgl"
           }
          ],
          "histogram": [
           {
            "marker": {
             "pattern": {
              "fillmode": "overlay",
              "size": 10,
              "solidity": 0.2
             }
            },
            "type": "histogram"
           }
          ],
          "histogram2d": [
           {
            "colorbar": {
             "outlinewidth": 0,
             "ticks": ""
            },
            "colorscale": [
             [
              0,
              "#0d0887"
             ],
             [
              0.1111111111111111,
              "#46039f"
             ],
             [
              0.2222222222222222,
              "#7201a8"
             ],
             [
              0.3333333333333333,
              "#9c179e"
             ],
             [
              0.4444444444444444,
              "#bd3786"
             ],
             [
              0.5555555555555556,
              "#d8576b"
             ],
             [
              0.6666666666666666,
              "#ed7953"
             ],
             [
              0.7777777777777778,
              "#fb9f3a"
             ],
             [
              0.8888888888888888,
              "#fdca26"
             ],
             [
              1,
              "#f0f921"
             ]
            ],
            "type": "histogram2d"
           }
          ],
          "histogram2dcontour": [
           {
            "colorbar": {
             "outlinewidth": 0,
             "ticks": ""
            },
            "colorscale": [
             [
              0,
              "#0d0887"
             ],
             [
              0.1111111111111111,
              "#46039f"
             ],
             [
              0.2222222222222222,
              "#7201a8"
             ],
             [
              0.3333333333333333,
              "#9c179e"
             ],
             [
              0.4444444444444444,
              "#bd3786"
             ],
             [
              0.5555555555555556,
              "#d8576b"
             ],
             [
              0.6666666666666666,
              "#ed7953"
             ],
             [
              0.7777777777777778,
              "#fb9f3a"
             ],
             [
              0.8888888888888888,
              "#fdca26"
             ],
             [
              1,
              "#f0f921"
             ]
            ],
            "type": "histogram2dcontour"
           }
          ],
          "mesh3d": [
           {
            "colorbar": {
             "outlinewidth": 0,
             "ticks": ""
            },
            "type": "mesh3d"
           }
          ],
          "parcoords": [
           {
            "line": {
             "colorbar": {
              "outlinewidth": 0,
              "ticks": ""
             }
            },
            "type": "parcoords"
           }
          ],
          "pie": [
           {
            "automargin": true,
            "type": "pie"
           }
          ],
          "scatter": [
           {
            "fillpattern": {
             "fillmode": "overlay",
             "size": 10,
             "solidity": 0.2
            },
            "type": "scatter"
           }
          ],
          "scatter3d": [
           {
            "line": {
             "colorbar": {
              "outlinewidth": 0,
              "ticks": ""
             }
            },
            "marker": {
             "colorbar": {
              "outlinewidth": 0,
              "ticks": ""
             }
            },
            "type": "scatter3d"
           }
          ],
          "scattercarpet": [
           {
            "marker": {
             "colorbar": {
              "outlinewidth": 0,
              "ticks": ""
             }
            },
            "type": "scattercarpet"
           }
          ],
          "scattergeo": [
           {
            "marker": {
             "colorbar": {
              "outlinewidth": 0,
              "ticks": ""
             }
            },
            "type": "scattergeo"
           }
          ],
          "scattergl": [
           {
            "marker": {
             "colorbar": {
              "outlinewidth": 0,
              "ticks": ""
             }
            },
            "type": "scattergl"
           }
          ],
          "scattermapbox": [
           {
            "marker": {
             "colorbar": {
              "outlinewidth": 0,
              "ticks": ""
             }
            },
            "type": "scattermapbox"
           }
          ],
          "scatterpolar": [
           {
            "marker": {
             "colorbar": {
              "outlinewidth": 0,
              "ticks": ""
             }
            },
            "type": "scatterpolar"
           }
          ],
          "scatterpolargl": [
           {
            "marker": {
             "colorbar": {
              "outlinewidth": 0,
              "ticks": ""
             }
            },
            "type": "scatterpolargl"
           }
          ],
          "scatterternary": [
           {
            "marker": {
             "colorbar": {
              "outlinewidth": 0,
              "ticks": ""
             }
            },
            "type": "scatterternary"
           }
          ],
          "surface": [
           {
            "colorbar": {
             "outlinewidth": 0,
             "ticks": ""
            },
            "colorscale": [
             [
              0,
              "#0d0887"
             ],
             [
              0.1111111111111111,
              "#46039f"
             ],
             [
              0.2222222222222222,
              "#7201a8"
             ],
             [
              0.3333333333333333,
              "#9c179e"
             ],
             [
              0.4444444444444444,
              "#bd3786"
             ],
             [
              0.5555555555555556,
              "#d8576b"
             ],
             [
              0.6666666666666666,
              "#ed7953"
             ],
             [
              0.7777777777777778,
              "#fb9f3a"
             ],
             [
              0.8888888888888888,
              "#fdca26"
             ],
             [
              1,
              "#f0f921"
             ]
            ],
            "type": "surface"
           }
          ],
          "table": [
           {
            "cells": {
             "fill": {
              "color": "#EBF0F8"
             },
             "line": {
              "color": "white"
             }
            },
            "header": {
             "fill": {
              "color": "#C8D4E3"
             },
             "line": {
              "color": "white"
             }
            },
            "type": "table"
           }
          ]
         },
         "layout": {
          "annotationdefaults": {
           "arrowcolor": "#2a3f5f",
           "arrowhead": 0,
           "arrowwidth": 1
          },
          "autotypenumbers": "strict",
          "coloraxis": {
           "colorbar": {
            "outlinewidth": 0,
            "ticks": ""
           }
          },
          "colorscale": {
           "diverging": [
            [
             0,
             "#8e0152"
            ],
            [
             0.1,
             "#c51b7d"
            ],
            [
             0.2,
             "#de77ae"
            ],
            [
             0.3,
             "#f1b6da"
            ],
            [
             0.4,
             "#fde0ef"
            ],
            [
             0.5,
             "#f7f7f7"
            ],
            [
             0.6,
             "#e6f5d0"
            ],
            [
             0.7,
             "#b8e186"
            ],
            [
             0.8,
             "#7fbc41"
            ],
            [
             0.9,
             "#4d9221"
            ],
            [
             1,
             "#276419"
            ]
           ],
           "sequential": [
            [
             0,
             "#0d0887"
            ],
            [
             0.1111111111111111,
             "#46039f"
            ],
            [
             0.2222222222222222,
             "#7201a8"
            ],
            [
             0.3333333333333333,
             "#9c179e"
            ],
            [
             0.4444444444444444,
             "#bd3786"
            ],
            [
             0.5555555555555556,
             "#d8576b"
            ],
            [
             0.6666666666666666,
             "#ed7953"
            ],
            [
             0.7777777777777778,
             "#fb9f3a"
            ],
            [
             0.8888888888888888,
             "#fdca26"
            ],
            [
             1,
             "#f0f921"
            ]
           ],
           "sequentialminus": [
            [
             0,
             "#0d0887"
            ],
            [
             0.1111111111111111,
             "#46039f"
            ],
            [
             0.2222222222222222,
             "#7201a8"
            ],
            [
             0.3333333333333333,
             "#9c179e"
            ],
            [
             0.4444444444444444,
             "#bd3786"
            ],
            [
             0.5555555555555556,
             "#d8576b"
            ],
            [
             0.6666666666666666,
             "#ed7953"
            ],
            [
             0.7777777777777778,
             "#fb9f3a"
            ],
            [
             0.8888888888888888,
             "#fdca26"
            ],
            [
             1,
             "#f0f921"
            ]
           ]
          },
          "colorway": [
           "#636efa",
           "#EF553B",
           "#00cc96",
           "#ab63fa",
           "#FFA15A",
           "#19d3f3",
           "#FF6692",
           "#B6E880",
           "#FF97FF",
           "#FECB52"
          ],
          "font": {
           "color": "#2a3f5f"
          },
          "geo": {
           "bgcolor": "white",
           "lakecolor": "white",
           "landcolor": "#E5ECF6",
           "showlakes": true,
           "showland": true,
           "subunitcolor": "white"
          },
          "hoverlabel": {
           "align": "left"
          },
          "hovermode": "closest",
          "mapbox": {
           "style": "light"
          },
          "paper_bgcolor": "white",
          "plot_bgcolor": "#E5ECF6",
          "polar": {
           "angularaxis": {
            "gridcolor": "white",
            "linecolor": "white",
            "ticks": ""
           },
           "bgcolor": "#E5ECF6",
           "radialaxis": {
            "gridcolor": "white",
            "linecolor": "white",
            "ticks": ""
           }
          },
          "scene": {
           "xaxis": {
            "backgroundcolor": "#E5ECF6",
            "gridcolor": "white",
            "gridwidth": 2,
            "linecolor": "white",
            "showbackground": true,
            "ticks": "",
            "zerolinecolor": "white"
           },
           "yaxis": {
            "backgroundcolor": "#E5ECF6",
            "gridcolor": "white",
            "gridwidth": 2,
            "linecolor": "white",
            "showbackground": true,
            "ticks": "",
            "zerolinecolor": "white"
           },
           "zaxis": {
            "backgroundcolor": "#E5ECF6",
            "gridcolor": "white",
            "gridwidth": 2,
            "linecolor": "white",
            "showbackground": true,
            "ticks": "",
            "zerolinecolor": "white"
           }
          },
          "shapedefaults": {
           "line": {
            "color": "#2a3f5f"
           }
          },
          "ternary": {
           "aaxis": {
            "gridcolor": "white",
            "linecolor": "white",
            "ticks": ""
           },
           "baxis": {
            "gridcolor": "white",
            "linecolor": "white",
            "ticks": ""
           },
           "bgcolor": "#E5ECF6",
           "caxis": {
            "gridcolor": "white",
            "linecolor": "white",
            "ticks": ""
           }
          },
          "title": {
           "x": 0.05
          },
          "xaxis": {
           "automargin": true,
           "gridcolor": "white",
           "linecolor": "white",
           "ticks": "",
           "title": {
            "standoff": 15
           },
           "zerolinecolor": "white",
           "zerolinewidth": 2
          },
          "yaxis": {
           "automargin": true,
           "gridcolor": "white",
           "linecolor": "white",
           "ticks": "",
           "title": {
            "standoff": 15
           },
           "zerolinecolor": "white",
           "zerolinewidth": 2
          }
         }
        },
        "title": {
         "text": "IMF"
        },
        "width": 800,
        "xaxis": {
         "autorange": true,
         "range": [
          -2.0986933152433025,
          1.2391737336441626
         ],
         "title": {
          "text": "log(M/Msun)"
         },
         "type": "linear"
        },
        "yaxis": {
         "autorange": true,
         "range": [
          0.29130372285990525,
          3.2957764173020374
         ],
         "title": {
          "text": "log(N)"
         },
         "type": "log"
        }
       }
      },
      "image/png": "[encoded data removed]",
      "text/html": [
       "<div>                            <div id=\"202d7d37-0032-4071-ae1f-313bd5548f17\" class=\"plotly-graph-div\" style=\"height:600px; width:800px;\"></div>            <script type=\"text/javascript\">                require([\"plotly\"], function(Plotly) {                    window.PLOTLYENV=window.PLOTLYENV || {};                                    if (document.getElementById(\"202d7d37-0032-4071-ae1f-313bd5548f17\")) {                    Plotly.newPlot(                        \"202d7d37-0032-4071-ae1f-313bd5548f17\",                        [{\"error_y\":{\"array\":[4.0,6.48074069840786,9.899494936611665,15.524174696260024,18.841443681416774,24.145392935299274,28.26658805020514,33.301651610693426,35.12833614050059,36.4417343165772,35.4964786985977,32.01562118716424,28.21347195933177,22.825424421026653,17.08800749063506,12.36931687685298,8.660254037844387,6.557438524302,3.605551275463989,2.23606797749979],\"type\":\"data\",\"visible\":true},\"hovertemplate\":\"IMF adjustment\",\"marker\":{\"color\":[-1.9155017838492836,-1.7591078898440506,-1.6027139958388177,-1.4463201018335845,-1.2899262078283515,-1.1335323138231184,-0.9771384198178854,-0.8207445258126524,-0.6643506318074195,-0.5079567378021865,-0.35156284379695346,-0.1951689497917204,-0.03877505578648732,0.11761883821874575,0.2740127322239787,0.43040662622921166,0.5868005202344446,0.7431944142396776,0.8995883082449105,1.0559822022501435],\"colorscale\":[[0.0,\"rgb(150,0,90)\"],[0.125,\"rgb(0,0,200)\"],[0.25,\"rgb(0,25,255)\"],[0.375,\"rgb(0,152,255)\"],[0.5,\"rgb(44,255,150)\"],[0.625,\"rgb(151,255,0)\"],[0.75,\"rgb(255,234,0)\"],[0.875,\"rgb(255,111,0)\"],[1.0,\"rgb(255,0,0)\"]],\"reversescale\":true,\"showscale\":false,\"size\":5},\"mode\":\"markers\",\"name\":\"IMF\",\"x\":[-1.9155017838492836,-1.7591078898440506,-1.6027139958388177,-1.4463201018335845,-1.2899262078283515,-1.1335323138231184,-0.9771384198178854,-0.8207445258126524,-0.6643506318074195,-0.5079567378021865,-0.35156284379695346,-0.1951689497917204,-0.03877505578648732,0.11761883821874575,0.2740127322239787,0.43040662622921166,0.5868005202344446,0.7431944142396776,0.8995883082449105,1.0559822022501435],\"y\":[16,42,98,241,355,583,799,1109,1234,1328,1260,1025,796,521,292,153,75,43,13,5],\"type\":\"scatter\"}],                        {\"template\":{\"data\":{\"histogram2dcontour\":[{\"type\":\"histogram2dcontour\",\"colorbar\":{\"outlinewidth\":0,\"ticks\":\"\"},\"colorscale\":[[0.0,\"#0d0887\"],[0.1111111111111111,\"#46039f\"],[0.2222222222222222,\"#7201a8\"],[0.3333333333333333,\"#9c179e\"],[0.4444444444444444,\"#bd3786\"],[0.5555555555555556,\"#d8576b\"],[0.6666666666666666,\"#ed7953\"],[0.7777777777777778,\"#fb9f3a\"],[0.8888888888888888,\"#fdca26\"],[1.0,\"#f0f921\"]]}],\"choropleth\":[{\"type\":\"choropleth\",\"colorbar\":{\"outlinewidth\":0,\"ticks\":\"\"}}],\"histogram2d\":[{\"type\":\"histogram2d\",\"colorbar\":{\"outlinewidth\":0,\"ticks\":\"\"},\"colorscale\":[[0.0,\"#0d0887\"],[0.1111111111111111,\"#46039f\"],[0.2222222222222222,\"#7201a8\"],[0.3333333333333333,\"#9c179e\"],[0.4444444444444444,\"#bd3786\"],[0.5555555555555556,\"#d8576b\"],[0.6666666666666666,\"#ed7953\"],[0.7777777777777778,\"#fb9f3a\"],[0.8888888888888888,\"#fdca26\"],[1.0,\"#f0f921\"]]}],\"heatmap\":[{\"type\":\"heatmap\",\"colorbar\":{\"outlinewidth\":0,\"ticks\":\"\"},\"colorscale\":[[0.0,\"#0d0887\"],[0.1111111111111111,\"#46039f\"],[0.2222222222222222,\"#7201a8\"],[0.3333333333333333,\"#9c179e\"],[0.4444444444444444,\"#bd3786\"],[0.5555555555555556,\"#d8576b\"],[0.6666666666666666,\"#ed7953\"],[0.7777777777777778,\"#fb9f3a\"],[0.8888888888888888,\"#fdca26\"],[1.0,\"#f0f921\"]]}],\"heatmapgl\":[{\"type\":\"heatmapgl\",\"colorbar\":{\"outlinewidth\":0,\"ticks\":\"\"},\"colorscale\":[[0.0,\"#0d0887\"],[0.1111111111111111,\"#46039f\"],[0.2222222222222222,\"#7201a8\"],[0.3333333333333333,\"#9c179e\"],[0.4444444444444444,\"#bd3786\"],[0.5555555555555556,\"#d8576b\"],[0.6666666666666666,\"#ed7953\"],[0.7777777777777778,\"#fb9f3a\"],[0.8888888888888888,\"#fdca26\"],[1.0,\"#f0f921\"]]}],\"contourcarpet\":[{\"type\":\"contourcarpet\",\"colorbar\":{\"outlinewidth\":0,\"ticks\":\"\"}}],\"contour\":[{\"type\":\"contour\",\"colorbar\":{\"outlinewidth\":0,\"ticks\":\"\"},\"colorscale\":[[0.0,\"#0d0887\"],[0.1111111111111111,\"#46039f\"],[0.2222222222222222,\"#7201a8\"],[0.3333333333333333,\"#9c179e\"],[0.4444444444444444,\"#bd3786\"],[0.5555555555555556,\"#d8576b\"],[0.6666666666666666,\"#ed7953\"],[0.7777777777777778,\"#fb9f3a\"],[0.8888888888888888,\"#fdca26\"],[1.0,\"#f0f921\"]]}],\"surface\":[{\"type\":\"surface\",\"colorbar\":{\"outlinewidth\":0,\"ticks\":\"\"},\"colorscale\":[[0.0,\"#0d0887\"],[0.1111111111111111,\"#46039f\"],[0.2222222222222222,\"#7201a8\"],[0.3333333333333333,\"#9c179e\"],[0.4444444444444444,\"#bd3786\"],[0.5555555555555556,\"#d8576b\"],[0.6666666666666666,\"#ed7953\"],[0.7777777777777778,\"#fb9f3a\"],[0.8888888888888888,\"#fdca26\"],[1.0,\"#f0f921\"]]}],\"mesh3d\":[{\"type\":\"mesh3d\",\"colorbar\":{\"outlinewidth\":0,\"ticks\":\"\"}}],\"scatter\":[{\"fillpattern\":{\"fillmode\":\"overlay\",\"size\":10,\"solidity\":0.2},\"type\":\"scatter\"}],\"parcoords\":[{\"type\":\"parcoords\",\"line\":{\"colorbar\":{\"outlinewidth\":0,\"ticks\":\"\"}}}],\"scatterpolargl\":[{\"type\":\"scatterpolargl\",\"marker\":{\"colorbar\":{\"outlinewidth\":0,\"ticks\":\"\"}}}],\"bar\":[{\"error_x\":{\"color\":\"#2a3f5f\"},\"error_y\":{\"color\":\"#2a3f5f\"},\"marker\":{\"line\":{\"color\":\"#E5ECF6\",\"width\":0.5},\"pattern\":{\"fillmode\":\"overlay\",\"size\":10,\"solidity\":0.2}},\"type\":\"bar\"}],\"scattergeo\":[{\"type\":\"scattergeo\",\"marker\":{\"colorbar\":{\"outlinewidth\":0,\"ticks\":\"\"}}}],\"scatterpolar\":[{\"type\":\"scatterpolar\",\"marker\":{\"colorbar\":{\"outlinewidth\":0,\"ticks\":\"\"}}}],\"histogram\":[{\"marker\":{\"pattern\":{\"fillmode\":\"overlay\",\"size\":10,\"solidity\":0.2}},\"type\":\"histogram\"}],\"scattergl\":[{\"type\":\"scattergl\",\"marker\":{\"colorbar\":{\"outlinewidth\":0,\"ticks\":\"\"}}}],\"scatter3d\":[{\"type\":\"scatter3d\",\"line\":{\"colorbar\":{\"outlinewidth\":0,\"ticks\":\"\"}},\"marker\":{\"colorbar\":{\"outlinewidth\":0,\"ticks\":\"\"}}}],\"scattermapbox\":[{\"type\":\"scattermapbox\",\"marker\":{\"colorbar\":{\"outlinewidth\":0,\"ticks\":\"\"}}}],\"scatterternary\":[{\"type\":\"scatterternary\",\"marker\":{\"colorbar\":{\"outlinewidth\":0,\"ticks\":\"\"}}}],\"scattercarpet\":[{\"type\":\"scattercarpet\",\"marker\":{\"colorbar\":{\"outlinewidth\":0,\"ticks\":\"\"}}}],\"carpet\":[{\"aaxis\":{\"endlinecolor\":\"#2a3f5f\",\"gridcolor\":\"white\",\"linecolor\":\"white\",\"minorgridcolor\":\"white\",\"startlinecolor\":\"#2a3f5f\"},\"baxis\":{\"endlinecolor\":\"#2a3f5f\",\"gridcolor\":\"white\",\"linecolor\":\"white\",\"minorgridcolor\":\"white\",\"startlinecolor\":\"#2a3f5f\"},\"type\":\"carpet\"}],\"table\":[{\"cells\":{\"fill\":{\"color\":\"#EBF0F8\"},\"line\":{\"color\":\"white\"}},\"header\":{\"fill\":{\"color\":\"#C8D4E3\"},\"line\":{\"color\":\"white\"}},\"type\":\"table\"}],\"barpolar\":[{\"marker\":{\"line\":{\"color\":\"#E5ECF6\",\"width\":0.5},\"pattern\":{\"fillmode\":\"overlay\",\"size\":10,\"solidity\":0.2}},\"type\":\"barpolar\"}],\"pie\":[{\"automargin\":true,\"type\":\"pie\"}]},\"layout\":{\"autotypenumbers\":\"strict\",\"colorway\":[\"#636efa\",\"#EF553B\",\"#00cc96\",\"#ab63fa\",\"#FFA15A\",\"#19d3f3\",\"#FF6692\",\"#B6E880\",\"#FF97FF\",\"#FECB52\"],\"font\":{\"color\":\"#2a3f5f\"},\"hovermode\":\"closest\",\"hoverlabel\":{\"align\":\"left\"},\"paper_bgcolor\":\"white\",\"plot_bgcolor\":\"#E5ECF6\",\"polar\":{\"bgcolor\":\"#E5ECF6\",\"angularaxis\":{\"gridcolor\":\"white\",\"linecolor\":\"white\",\"ticks\":\"\"},\"radialaxis\":{\"gridcolor\":\"white\",\"linecolor\":\"white\",\"ticks\":\"\"}},\"ternary\":{\"bgcolor\":\"#E5ECF6\",\"aaxis\":{\"gridcolor\":\"white\",\"linecolor\":\"white\",\"ticks\":\"\"},\"baxis\":{\"gridcolor\":\"white\",\"linecolor\":\"white\",\"ticks\":\"\"},\"caxis\":{\"gridcolor\":\"white\",\"linecolor\":\"white\",\"ticks\":\"\"}},\"coloraxis\":{\"colorbar\":{\"outlinewidth\":0,\"ticks\":\"\"}},\"colorscale\":{\"sequential\":[[0.0,\"#0d0887\"],[0.1111111111111111,\"#46039f\"],[0.2222222222222222,\"#7201a8\"],[0.3333333333333333,\"#9c179e\"],[0.4444444444444444,\"#bd3786\"],[0.5555555555555556,\"#d8576b\"],[0.6666666666666666,\"#ed7953\"],[0.7777777777777778,\"#fb9f3a\"],[0.8888888888888888,\"#fdca26\"],[1.0,\"#f0f921\"]],\"sequentialminus\":[[0.0,\"#0d0887\"],[0.1111111111111111,\"#46039f\"],[0.2222222222222222,\"#7201a8\"],[0.3333333333333333,\"#9c179e\"],[0.4444444444444444,\"#bd3786\"],[0.5555555555555556,\"#d8576b\"],[0.6666666666666666,\"#ed7953\"],[0.7777777777777778,\"#fb9f3a\"],[0.8888888888888888,\"#fdca26\"],[1.0,\"#f0f921\"]],\"diverging\":[[0,\"#8e0152\"],[0.1,\"#c51b7d\"],[0.2,\"#de77ae\"],[0.3,\"#f1b6da\"],[0.4,\"#fde0ef\"],[0.5,\"#f7f7f7\"],[0.6,\"#e6f5d0\"],[0.7,\"#b8e186\"],[0.8,\"#7fbc41\"],[0.9,\"#4d9221\"],[1,\"#276419\"]]},\"xaxis\":{\"gridcolor\":\"white\",\"linecolor\":\"white\",\"ticks\":\"\",\"title\":{\"standoff\":15},\"zerolinecolor\":\"white\",\"automargin\":true,\"zerolinewidth\":2},\"yaxis\":{\"gridcolor\":\"white\",\"linecolor\":\"white\",\"ticks\":\"\",\"title\":{\"standoff\":15},\"zerolinecolor\":\"white\",\"automargin\":true,\"zerolinewidth\":2},\"scene\":{\"xaxis\":{\"backgroundcolor\":\"#E5ECF6\",\"gridcolor\":\"white\",\"linecolor\":\"white\",\"showbackground\":true,\"ticks\":\"\",\"zerolinecolor\":\"white\",\"gridwidth\":2},\"yaxis\":{\"backgroundcolor\":\"#E5ECF6\",\"gridcolor\":\"white\",\"linecolor\":\"white\",\"showbackground\":true,\"ticks\":\"\",\"zerolinecolor\":\"white\",\"gridwidth\":2},\"zaxis\":{\"backgroundcolor\":\"#E5ECF6\",\"gridcolor\":\"white\",\"linecolor\":\"white\",\"showbackground\":true,\"ticks\":\"\",\"zerolinecolor\":\"white\",\"gridwidth\":2}},\"shapedefaults\":{\"line\":{\"color\":\"#2a3f5f\"}},\"annotationdefaults\":{\"arrowcolor\":\"#2a3f5f\",\"arrowhead\":0,\"arrowwidth\":1},\"geo\":{\"bgcolor\":\"white\",\"landcolor\":\"#E5ECF6\",\"subunitcolor\":\"white\",\"showland\":true,\"showlakes\":true,\"lakecolor\":\"white\"},\"title\":{\"x\":0.05},\"mapbox\":{\"style\":\"light\"}}},\"yaxis\":{\"type\":\"log\",\"title\":{\"text\":\"log(N)\"}},\"title\":{\"text\":\"IMF\"},\"xaxis\":{\"title\":{\"text\":\"log(M\\u002fMsun)\"}},\"height\":600,\"width\":800},                        {\"responsive\": true}                    ).then(function(){\n",
       "                            \n",
       "var gd = document.getElementById('202d7d37-0032-4071-ae1f-313bd5548f17');\n",
       "var x = new MutationObserver(function (mutations, observer) {{\n",
       "        var display = window.getComputedStyle(gd).display;\n",
       "        if (!display || display === 'none') {{\n",
       "            console.log([gd, 'removed!']);\n",
       "            Plotly.purge(gd);\n",
       "            observer.disconnect();\n",
       "        }}\n",
       "}});\n",
       "\n",
       "// Listen for the removal of the full notebook cells\n",
       "var notebookContainer = gd.closest('#notebook-container');\n",
       "if (notebookContainer) {{\n",
       "    x.observe(notebookContainer, {childList: true});\n",
       "}}\n",
       "\n",
       "// Listen for the clearing of the current output cell\n",
       "var outputEl = gd.closest('.output');\n",
       "if (outputEl) {{\n",
       "    x.observe(outputEl, {childList: true});\n",
       "}}\n",
       "\n",
       "                        })                };                });            </script>        </div>"
      ]
     },
     "metadata": {},
     "output_type": "display_data"
    }
   ],
   "source": [
    "fig_hist = go.Histogram(x=dt['log(M)'], nbinsx=20)\n",
    "\n",
    "fig=go.Figure()\n",
    "\n",
    "fig.add_trace(go.Scatter(\n",
    "    x=xdata,  # x-axis positions (bin centers)\n",
    "    y=ydata,  # y-axis values (histogram bar heights)\n",
    "    mode='markers',\n",
    "    marker=dict(\n",
    "        size=5,\n",
    "        color=xdata,  # Color based on xdata values\n",
    "        colorscale='Rainbow',\n",
    "        showscale=False,\n",
    "        reversescale=True,\n",
    "    ),\n",
    "    error_y=dict(\n",
    "        type='data',\n",
    "        array=np.sqrt(ydata),  # y-error based on the square root of ydata\n",
    "        visible=True\n",
    "    ),\n",
    "    hovertemplate='IMF adjustment',\n",
    "    name='IMF'\n",
    "))\n",
    "\n",
    "# Invert the y-axis and apply a logarithmic scale if necessary\n",
    "fig.update_yaxes(type='log')\n",
    "\n",
    "fig.update_layout(\n",
    "    title='IMF',\n",
    "    xaxis_title='log(M/Msun)',  # Correct LaTeX formatting\n",
    "    yaxis_title='log(N)',\n",
    "    height=600,\n",
    "    width=800\n",
    ")\n",
    "\n",
    "# Display the figure\n",
    "fig.show()"
   ]
  },
  {
   "cell_type": "markdown",
   "id": "b3b91f09-a08d-407f-a7e1-147f0081ca22",
   "metadata": {},
   "source": [
    "Defino las funciones de IMF"
   ]
  },
  {
   "cell_type": "code",
   "execution_count": 13,
   "id": "3fe938db-120a-4d78-9b6b-1894d9b04de8",
   "metadata": {},
   "outputs": [],
   "source": [
    "# import scipy.optimize as sc\n",
    "\n",
    "# def powerlaw(x,c,gamma):\n",
    "#     return(c*x**(-gamma))\n",
    "    \n",
    "# def two_segment_powerlaw(x,gamma1,gamma2,c):\n",
    "#     return(np.piecewise(x,[x<0.4,x>0.4],[lambda x: c*x**(-gamma1), lambda x :c*(0.4)**(gamma2-gamma1)*x**(-gamma2)]))\n",
    "\n",
    "# def kroupa(x,gamma1,gamma2,gamma3,gamma4,c):\n",
    "#     return(np.piecewise(x,[(x >= 0.01) & (x < 0.08), (x >= 0.08) & (x < 0.5), (x >= 0.5) & (x < 1), x >= 1], [lambda x : c*x**(-gamma1), lambda x : c*x**(-gamma2), lambda x: c*x**(-gamma3), lambda x : c*x**(-gamma4)]))\n",
    " \n",
    "# def lognormal_and_powerlaw(x,c,logmc,sigma,gamma):\n",
    "#     return(np.piecewise(x,[x<1,x>1],[lambda x: c*np.e**(-(np.log10(x)-logmc)**2/(2*sigma**2)), lambda x :(c*np.e**(-(logmc**2)/(2*sigma**2)))*x**(-gamma)]))\n",
    "    \n",
    "# def tapered_powerlaw(x,c,gamma,mp,beta):\n",
    "#     return(((c*x**(-gamma))*(1-np.e**(-(x/mp)**beta))))\n",
    "    \n",
    "# def lognormal(x,c,logmc,sigma):\n",
    "#     return(c*np.e**(-(np.log10(x)-logmc)**2/(2*sigma**2)))"
   ]
  },
  {
   "cell_type": "code",
   "execution_count": null,
   "id": "a9970a57-38c3-4089-b1da-fbc7785049a7",
   "metadata": {},
   "outputs": [],
   "source": []
  },
  {
   "cell_type": "code",
   "execution_count": 14,
   "id": "bb9049a7-1aef-4861-975c-6c22bbfbea7e",
   "metadata": {},
   "outputs": [],
   "source": [
    "# mask=xdata>0\n",
    "# salpeter = sc.curve_fit(powerlaw,10**xdata[mask],ydata[mask])\n",
    "\n",
    "# plt.plot(xdata,np.log10(ydata), color='black')\n",
    "# plt.plot(xdata[mask],np.log10(powerlaw(10**xdata[mask],salpeter[0][0],salpeter[0][1])), '--' , color='red',linewidth=3)"
   ]
  },
  {
   "cell_type": "code",
   "execution_count": 15,
   "id": "8df9c45b-b306-42e0-b7f5-5f83851aba45",
   "metadata": {},
   "outputs": [],
   "source": [
    "# lognorm = sc.curve_fit(lognormal,10**xdata,ydata)\n",
    "# plt.plot(xdata, np.log10(ydata), color = 'black')\n",
    "# plt.plot(xdata, np.log10(lognormal(10**xdata, lognorm[0][0], lognorm[0][1], lognorm[0][2])), '-*',color = 'blue', linewidth = 2)"
   ]
  },
  {
   "cell_type": "code",
   "execution_count": 16,
   "id": "4e30ceee-dd56-4277-8cd6-f2421f636341",
   "metadata": {},
   "outputs": [],
   "source": [
    "# chabrier =sc.curve_fit(lognormal_and_powerlaw, 10**xdata,ydata)\n",
    "\n",
    "# chabrier\n",
    "\n",
    "# plt.plot(xdata, np.log10(ydata), color = 'black')\n",
    "# plt.plot(xdata, np.log10(lognormal_and_powerlaw(10**xdata, chabrier[0][0],chabrier[0][1], chabrier[0][2], chabrier[0][3])), 'o-', color = 'green', linewidth = 2)"
   ]
  },
  {
   "cell_type": "code",
   "execution_count": 17,
   "id": "7c1ccf0c-7d04-481f-a6d2-65e9c89b0ad0",
   "metadata": {},
   "outputs": [],
   "source": [
    "# tapered =sc.curve_fit(tapered_powerlaw, 10**xdata, ydata)\n",
    "\n",
    "# plt.plot(xdata, np.log10(ydata), color = 'black')\n",
    "# plt.plot(xdata, np.log10(tapered_powerlaw(10**xdata, tapered[0][0],tapered[0][1], tapered[0][2], tapered[0][3])), 'o-', color = 'purple', linewidth = 2)"
   ]
  },
  {
   "cell_type": "code",
   "execution_count": 18,
   "id": "eefc8363-1602-4c5c-9f2d-849e83bde211",
   "metadata": {},
   "outputs": [],
   "source": [
    "# kroupa_fit =sc.curve_fit(kroupa, 10**xdata, ydata)\n",
    "\n",
    "# kroupa_fit[0]\n",
    "\n",
    "# plt.plot(xdata, np.log10(ydata), color = 'black')\n",
    "# plt.plot(xdata, np.log10(kroupa(10**xdata,kroupa_fit[0][0], kroupa_fit[0][1], kroupa_fit[0][2], kroupa_fit[0][3], kroupa_fit[0][4])), '-or' )\n"
   ]
  },
  {
   "cell_type": "code",
   "execution_count": 19,
   "id": "8e7d5dd0-9177-48bc-82a3-7b72bc798e79",
   "metadata": {},
   "outputs": [],
   "source": [
    "# logm=[]\n",
    "# for i in range(5000):\n",
    "#     logm.append(np.random.normal(np.log10(0.2), 0.6))\n"
   ]
  },
  {
   "cell_type": "code",
   "execution_count": null,
   "id": "565944ea-65a4-4e98-8b48-20a90b34e40e",
   "metadata": {},
   "outputs": [],
   "source": []
  },
  {
   "cell_type": "code",
   "execution_count": 20,
   "id": "a19dd5f7-eed0-46fe-b87b-83498a76ebaa",
   "metadata": {},
   "outputs": [],
   "source": [
    " # Calcular los datos de la función de masa\n",
    "# hist_data = np.histogram(dt['log(M)'], bins=20)\n",
    "# mass_function_data = [hist_data[0], 0.5 * (hist_data[1][1:] + hist_data[1][:-1])] #promedio de los puntos para evitar que se corra el hist\n",
    "\n",
    "# xdata = mass_function_data[1]\n",
    "# ydata = mass_function_data[0]\n",
    "\n",
    "\n",
    "# def powerlaw(x,c,gamma):\n",
    "#     return(c*x**(-gamma))\n",
    "    \n",
    "# def two_segment_powerlaw(x,gamma1,gamma2,c):\n",
    "#     return(np.piecewise(x,[x<0.4,x>0.4],[lambda x: c*x**(-gamma1), lambda x :c*(0.4)**(gamma2-gamma1)*x**(-gamma2)]))\n",
    "\n",
    "# def kroupa(x,gamma1,gamma2,gamma3,gamma4,c):\n",
    "#     return(np.piecewise(x,[(x >= 0.01) & (x < 0.08), (x >= 0.08) & (x < 0.5), (x >= 0.5) & (x < 1), x >= 1], [lambda x : c*x**(-gamma1), lambda x : c*x**(-gamma2), lambda x: c*x**(-gamma3), lambda x : c*x**(-gamma4)]))\n",
    " \n",
    "# def lognormal_and_powerlaw(x,c,logmc,sigma,gamma):\n",
    "#     return(np.piecewise(x,[x<1,x>1],[lambda x: c*np.e**(-(np.log10(x)-logmc)**2/(2*sigma**2)), lambda x :(c*np.e**(-(logmc**2)/(2*sigma**2)))*x**(-gamma)]))\n",
    "    \n",
    "# def tapered_powerlaw(x,c,gamma,mp,beta):\n",
    "#     return(((c*x**(-gamma))*(1-np.e**(-(x/mp)**beta))))\n",
    "    \n",
    "# def lognormal(x,c,logmc,sigma):\n",
    "#     return(c*np.e**(-(np.log10(x)-logmc)**2/(2*sigma**2)))\n",
    "\n",
    "# #--------------------------------------------------------------------------------------------------------------------------------------------------------------------\n",
    "# mask=xdata>0\n",
    "# salpeter = sc.curve_fit(powerlaw,10**xdata[mask],ydata[mask])\n",
    "\n",
    "# plt.figure()\n",
    "# plt.plot(xdata,np.log10(ydata), color='black')\n",
    "# plt.plot(xdata[mask],np.log10(powerlaw(10**xdata[mask],salpeter[0][0],salpeter[0][1])), '--' , color='red',linewidth=3)\n",
    "\n",
    "# #--------------------------------------------------------------------------------------------------------------------------------------------------------------------\n",
    "# lognorm = sc.curve_fit(lognormal,10**xdata,ydata)\n",
    "\n",
    "# plt.figure()\n",
    "# plt.plot(xdata, np.log10(ydata), color = 'black')\n",
    "# plt.plot(xdata, np.log10(lognormal(10**xdata, lognorm[0][0], lognorm[0][1], lognorm[0][2])), '-o',color = 'blue', linewidth = 2)\n",
    "\n",
    "# #--------------------------------------------------------------------------------------------------------------------------------------------------------------------\n",
    "# chabrier =sc.curve_fit(lognormal_and_powerlaw, 10**xdata,ydata)\n",
    "\n",
    "# plt.figure()\n",
    "# plt.plot(xdata, np.log10(ydata), color = 'black')\n",
    "# plt.plot(xdata, np.log10(lognormal_and_powerlaw(10**xdata, chabrier[0][0],chabrier[0][1], chabrier[0][2], chabrier[0][3])), 'o-', color = 'green', linewidth = 2)\n",
    "\n",
    "# #--------------------------------------------------------------------------------------------------------------------------------------------------------------------\n",
    "# tapered =sc.curve_fit(tapered_powerlaw, 10**xdata, ydata)\n",
    "\n",
    "# plt.figure()\n",
    "# plt.plot(xdata, np.log10(ydata), color = 'black')\n",
    "# plt.plot(xdata, np.log10(tapered_powerlaw(10**xdata, tapered[0][0],tapered[0][1], tapered[0][2], tapered[0][3])), 'o-', color = 'purple', linewidth = 2)\n",
    "\n",
    "# #--------------------------------------------------------------------------------------------------------------------------------------------------------------------\n",
    "# kroupa_fit =sc.curve_fit(kroupa, 10**xdata, ydata)\n",
    "\n",
    "# plt.figure()\n",
    "# plt.plot(xdata, np.log10(ydata), color = 'black')\n",
    "# plt.plot(xdata, np.log10(kroupa(10**xdata,kroupa_fit[0][0], kroupa_fit[0][1], kroupa_fit[0][2], kroupa_fit[0][3], kroupa_fit[0][4])), '-o', color='orange' )"
   ]
  },
  {
   "cell_type": "code",
   "execution_count": 21,
   "id": "c8d38bd5-16ad-4a2f-be2c-ef49bd97bba7",
   "metadata": {},
   "outputs": [
    {
     "name": "stderr",
     "output_type": "stream",
     "text": [
      "C:\\Users\\usuario\\AppData\\Local\\Temp\\ipykernel_4296\\3877786175.py:22: RuntimeWarning:\n",
      "\n",
      "invalid value encountered in power\n",
      "\n",
      "C:\\Users\\usuario\\AppData\\Local\\Temp\\ipykernel_4296\\3877786175.py:16: RuntimeWarning:\n",
      "\n",
      "overflow encountered in power\n",
      "\n"
     ]
    },
    {
     "data": {
      "application/vnd.plotly.v1+json": {
       "config": {
        "plotlyServerURL": "https://plot.ly"
       },
       "data": [
        {
         "error_y": {
          "array": [
           4,
           6.48074069840786,
           9.899494936611665,
           15.524174696260024,
           18.841443681416774,
           24.145392935299274,
           28.26658805020514,
           33.301651610693426,
           35.12833614050059,
           36.4417343165772,
           35.4964786985977,
           32.01562118716424,
           28.21347195933177,
           22.825424421026653,
           17.08800749063506,
           12.36931687685298,
           8.660254037844387,
           6.557438524302,
           3.605551275463989,
           2.23606797749979
          ],
          "type": "data",
          "visible": true
         },
         "marker": {
          "color": [
           -1.9155017838492836,
           -1.7591078898440506,
           -1.6027139958388177,
           -1.4463201018335845,
           -1.2899262078283515,
           -1.1335323138231184,
           -0.9771384198178854,
           -0.8207445258126524,
           -0.6643506318074195,
           -0.5079567378021865,
           -0.35156284379695346,
           -0.1951689497917204,
           -0.03877505578648732,
           0.11761883821874575,
           0.2740127322239787,
           0.43040662622921166,
           0.5868005202344446,
           0.7431944142396776,
           0.8995883082449105,
           1.0559822022501435
          ],
          "colorscale": [
           [
            0,
            "rgb(150,0,90)"
           ],
           [
            0.125,
            "rgb(0,0,200)"
           ],
           [
            0.25,
            "rgb(0,25,255)"
           ],
           [
            0.375,
            "rgb(0,152,255)"
           ],
           [
            0.5,
            "rgb(44,255,150)"
           ],
           [
            0.625,
            "rgb(151,255,0)"
           ],
           [
            0.75,
            "rgb(255,234,0)"
           ],
           [
            0.875,
            "rgb(255,111,0)"
           ],
           [
            1,
            "rgb(255,0,0)"
           ]
          ],
          "reversescale": true,
          "showscale": false,
          "size": 8,
          "symbol": "hexagram"
         },
         "mode": "markers",
         "name": "Data",
         "type": "scatter",
         "visible": true,
         "x": [
          -1.9155017838492836,
          -1.7591078898440506,
          -1.6027139958388177,
          -1.4463201018335845,
          -1.2899262078283515,
          -1.1335323138231184,
          -0.9771384198178854,
          -0.8207445258126524,
          -0.6643506318074195,
          -0.5079567378021865,
          -0.35156284379695346,
          -0.1951689497917204,
          -0.03877505578648732,
          0.11761883821874575,
          0.2740127322239787,
          0.43040662622921166,
          0.5868005202344446,
          0.7431944142396776,
          0.8995883082449105,
          1.0559822022501435
         ],
         "y": [
          16,
          42,
          98,
          241,
          355,
          583,
          799,
          1109,
          1234,
          1328,
          1260,
          1025,
          796,
          521,
          292,
          153,
          75,
          43,
          13,
          5
         ]
        },
        {
         "line": {
          "color": "black"
         },
         "mode": "lines",
         "name": "Data",
         "type": "scatter",
         "visible": false,
         "x": [
          -1.9155017838492836,
          -1.7591078898440506,
          -1.6027139958388177,
          -1.4463201018335845,
          -1.2899262078283515,
          -1.1335323138231184,
          -0.9771384198178854,
          -0.8207445258126524,
          -0.6643506318074195,
          -0.5079567378021865,
          -0.35156284379695346,
          -0.1951689497917204,
          -0.03877505578648732,
          0.11761883821874575,
          0.2740127322239787,
          0.43040662622921166,
          0.5868005202344446,
          0.7431944142396776,
          0.8995883082449105,
          1.0559822022501435
         ],
         "y": [
          1.2041199826559248,
          1.6232492903979006,
          1.9912260756924949,
          2.3820170425748683,
          2.550228353055094,
          2.765668554759014,
          2.902546779313991,
          3.04493154614916,
          3.091315159697223,
          3.1231980750319988,
          3.100370545117563,
          3.010723865391773,
          2.900913067737669,
          2.7168377232995247,
          2.4653828514484184,
          2.184691430817599,
          1.8750612633917,
          1.6334684555795864,
          1.1139433523068367,
          0.6989700043360189
         ]
        },
        {
         "line": {
          "color": "black"
         },
         "mode": "lines",
         "name": "Salpeter",
         "type": "scatter",
         "visible": false,
         "x": [
          -1.9155017838492836,
          -1.7591078898440506,
          -1.6027139958388177,
          -1.4463201018335845,
          -1.2899262078283515,
          -1.1335323138231184,
          -0.9771384198178854,
          -0.8207445258126524,
          -0.6643506318074195,
          -0.5079567378021865,
          -0.35156284379695346,
          -0.1951689497917204,
          -0.03877505578648732,
          0.11761883821874575,
          0.2740127322239787,
          0.43040662622921166,
          0.5868005202344446,
          0.7431944142396776,
          0.8995883082449105,
          1.0559822022501435
         ],
         "y": [
          1717024.2229465593,
          921382.066548796,
          494428.0349760406,
          265317.8205279537,
          142373.69426900454,
          76399.95225148588,
          40997.40990776596,
          21999.851696408587,
          11805.46468064293,
          6334.9970831239425,
          3399.4585667595443,
          1824.2026626815987,
          978.895694471341,
          525.2907477099668,
          281.8792351300657,
          151.2608085025353,
          81.1689168174568,
          43.55651092006951,
          23.373105345199274,
          12.542374077673506
         ]
        },
        {
         "line": {
          "color": "black"
         },
         "mode": "lines",
         "name": "Lognormal",
         "type": "scatter",
         "visible": true,
         "x": [
          -1.9155017838492836,
          -1.7591078898440506,
          -1.6027139958388177,
          -1.4463201018335845,
          -1.2899262078283515,
          -1.1335323138231184,
          -0.9771384198178854,
          -0.8207445258126524,
          -0.6643506318074195,
          -0.5079567378021865,
          -0.35156284379695346,
          -0.1951689497917204,
          -0.03877505578648732,
          0.11761883821874575,
          0.2740127322239787,
          0.43040662622921166,
          0.5868005202344446,
          0.7431944142396776,
          0.8995883082449105,
          1.0559822022501435
         ],
         "y": [
          17.084067028297643,
          43.00543232527312,
          96.97930761838323,
          195.9108777611382,
          354.537135740012,
          574.76276204039,
          834.7169346779826,
          1085.959267636584,
          1265.6439790303389,
          1321.3969161782297,
          1235.8869045407437,
          1035.4947040073216,
          777.214230321302,
          522.5854518448457,
          314.7730897351291,
          169.84845030582073,
          82.10115947392921,
          35.551726994780616,
          13.791002084548685,
          4.7924176171303765
         ]
        },
        {
         "line": {
          "color": "black"
         },
         "mode": "lines",
         "name": "Chabrier",
         "type": "scatter",
         "visible": false,
         "x": [
          -1.9155017838492836,
          -1.7591078898440506,
          -1.6027139958388177,
          -1.4463201018335845,
          -1.2899262078283515,
          -1.1335323138231184,
          -0.9771384198178854,
          -0.8207445258126524,
          -0.6643506318074195,
          -0.5079567378021865,
          -0.35156284379695346,
          -0.1951689497917204,
          -0.03877505578648732,
          0.11761883821874575,
          0.2740127322239787,
          0.43040662622921166,
          0.5868005202344446,
          0.7431944142396776,
          0.8995883082449105,
          1.0559822022501435
         ],
         "y": [
          19.54793383503907,
          47.5213970053202,
          103.99360579390468,
          204.85811539999418,
          363.2693927893706,
          579.8738731005795,
          833.234749772467,
          1077.7804575163839,
          1254.9381851503354,
          1315.3564609868197,
          1241.062603130704,
          1054.0786447335522,
          805.9005254848072,
          489.03569960180573,
          281.0039227413313,
          161.46715804247293,
          92.78035292878205,
          53.31235152677319,
          30.633714311217442,
          17.602383418221873
         ]
        },
        {
         "line": {
          "color": "black"
         },
         "mode": "lines",
         "name": "Tapered",
         "type": "scatter",
         "visible": false,
         "x": [
          -1.9155017838492836,
          -1.7591078898440506,
          -1.6027139958388177,
          -1.4463201018335845,
          -1.2899262078283515,
          -1.1335323138231184,
          -0.9771384198178854,
          -0.8207445258126524,
          -0.6643506318074195,
          -0.5079567378021865,
          -0.35156284379695346,
          -0.1951689497917204,
          -0.03877505578648732,
          0.11761883821874575,
          0.2740127322239787,
          0.43040662622921166,
          0.5868005202344446,
          0.7431944142396776,
          0.8995883082449105,
          1.0559822022501435
         ],
         "y": [
          93.3703006515833,
          133.20828085574692,
          189.88132299321802,
          270.18422190536415,
          383.02756071558366,
          538.8491212434374,
          746.1679298292702,
          1000.5429311172322,
          1258.9500212378482,
          1407.874889075871,
          1305.8571395889708,
          990.1626232445597,
          684.4071702268177,
          468.81970361737274,
          321.1242096291992,
          219.95824210327103,
          150.66328485487676,
          103.19879439936737,
          70.6873686959718,
          48.418240951765284
         ]
        },
        {
         "line": {
          "color": "black"
         },
         "mode": "lines",
         "name": "Kroupa",
         "type": "scatter",
         "visible": false,
         "x": [
          -1.9155017838492836,
          -1.7591078898440506,
          -1.6027139958388177,
          -1.4463201018335845,
          -1.2899262078283515,
          -1.1335323138231184,
          -0.9771384198178854,
          -0.8207445258126524,
          -0.6643506318074195,
          -0.5079567378021865,
          -0.35156284379695346,
          -0.1951689497917204,
          -0.03877505578648732,
          0.11761883821874575,
          0.2740127322239787,
          0.43040662622921166,
          0.5868005202344446,
          0.7431944142396776,
          0.8995883082449105,
          1.0559822022501435
         ],
         "y": [
          149.10363289760366,
          176.0623061816988,
          207.89524075047837,
          245.4837271192805,
          289.8683974815076,
          342.27803547104446,
          1079.255962185642,
          1089.0034743421927,
          1098.8390230689095,
          1108.7634034853638,
          1118.777417892405,
          954.8948152027846,
          1101.8210998194534,
          601.5287453746865,
          256.5999196697236,
          109.46030307079558,
          46.693537409412244,
          19.9185126903407,
          8.496832105834189,
          3.624575637604985
         ]
        }
       ],
       "layout": {
        "height": 600,
        "template": {
         "data": {
          "bar": [
           {
            "error_x": {
             "color": "#2a3f5f"
            },
            "error_y": {
             "color": "#2a3f5f"
            },
            "marker": {
             "line": {
              "color": "#E5ECF6",
              "width": 0.5
             },
             "pattern": {
              "fillmode": "overlay",
              "size": 10,
              "solidity": 0.2
             }
            },
            "type": "bar"
           }
          ],
          "barpolar": [
           {
            "marker": {
             "line": {
              "color": "#E5ECF6",
              "width": 0.5
             },
             "pattern": {
              "fillmode": "overlay",
              "size": 10,
              "solidity": 0.2
             }
            },
            "type": "barpolar"
           }
          ],
          "carpet": [
           {
            "aaxis": {
             "endlinecolor": "#2a3f5f",
             "gridcolor": "white",
             "linecolor": "white",
             "minorgridcolor": "white",
             "startlinecolor": "#2a3f5f"
            },
            "baxis": {
             "endlinecolor": "#2a3f5f",
             "gridcolor": "white",
             "linecolor": "white",
             "minorgridcolor": "white",
             "startlinecolor": "#2a3f5f"
            },
            "type": "carpet"
           }
          ],
          "choropleth": [
           {
            "colorbar": {
             "outlinewidth": 0,
             "ticks": ""
            },
            "type": "choropleth"
           }
          ],
          "contour": [
           {
            "colorbar": {
             "outlinewidth": 0,
             "ticks": ""
            },
            "colorscale": [
             [
              0,
              "#0d0887"
             ],
             [
              0.1111111111111111,
              "#46039f"
             ],
             [
              0.2222222222222222,
              "#7201a8"
             ],
             [
              0.3333333333333333,
              "#9c179e"
             ],
             [
              0.4444444444444444,
              "#bd3786"
             ],
             [
              0.5555555555555556,
              "#d8576b"
             ],
             [
              0.6666666666666666,
              "#ed7953"
             ],
             [
              0.7777777777777778,
              "#fb9f3a"
             ],
             [
              0.8888888888888888,
              "#fdca26"
             ],
             [
              1,
              "#f0f921"
             ]
            ],
            "type": "contour"
           }
          ],
          "contourcarpet": [
           {
            "colorbar": {
             "outlinewidth": 0,
             "ticks": ""
            },
            "type": "contourcarpet"
           }
          ],
          "heatmap": [
           {
            "colorbar": {
             "outlinewidth": 0,
             "ticks": ""
            },
            "colorscale": [
             [
              0,
              "#0d0887"
             ],
             [
              0.1111111111111111,
              "#46039f"
             ],
             [
              0.2222222222222222,
              "#7201a8"
             ],
             [
              0.3333333333333333,
              "#9c179e"
             ],
             [
              0.4444444444444444,
              "#bd3786"
             ],
             [
              0.5555555555555556,
              "#d8576b"
             ],
             [
              0.6666666666666666,
              "#ed7953"
             ],
             [
              0.7777777777777778,
              "#fb9f3a"
             ],
             [
              0.8888888888888888,
              "#fdca26"
             ],
             [
              1,
              "#f0f921"
             ]
            ],
            "type": "heatmap"
           }
          ],
          "heatmapgl": [
           {
            "colorbar": {
             "outlinewidth": 0,
             "ticks": ""
            },
            "colorscale": [
             [
              0,
              "#0d0887"
             ],
             [
              0.1111111111111111,
              "#46039f"
             ],
             [
              0.2222222222222222,
              "#7201a8"
             ],
             [
              0.3333333333333333,
              "#9c179e"
             ],
             [
              0.4444444444444444,
              "#bd3786"
             ],
             [
              0.5555555555555556,
              "#d8576b"
             ],
             [
              0.6666666666666666,
              "#ed7953"
             ],
             [
              0.7777777777777778,
              "#fb9f3a"
             ],
             [
              0.8888888888888888,
              "#fdca26"
             ],
             [
              1,
              "#f0f921"
             ]
            ],
            "type": "heatmapgl"
           }
          ],
          "histogram": [
           {
            "marker": {
             "pattern": {
              "fillmode": "overlay",
              "size": 10,
              "solidity": 0.2
             }
            },
            "type": "histogram"
           }
          ],
          "histogram2d": [
           {
            "colorbar": {
             "outlinewidth": 0,
             "ticks": ""
            },
            "colorscale": [
             [
              0,
              "#0d0887"
             ],
             [
              0.1111111111111111,
              "#46039f"
             ],
             [
              0.2222222222222222,
              "#7201a8"
             ],
             [
              0.3333333333333333,
              "#9c179e"
             ],
             [
              0.4444444444444444,
              "#bd3786"
             ],
             [
              0.5555555555555556,
              "#d8576b"
             ],
             [
              0.6666666666666666,
              "#ed7953"
             ],
             [
              0.7777777777777778,
              "#fb9f3a"
             ],
             [
              0.8888888888888888,
              "#fdca26"
             ],
             [
              1,
              "#f0f921"
             ]
            ],
            "type": "histogram2d"
           }
          ],
          "histogram2dcontour": [
           {
            "colorbar": {
             "outlinewidth": 0,
             "ticks": ""
            },
            "colorscale": [
             [
              0,
              "#0d0887"
             ],
             [
              0.1111111111111111,
              "#46039f"
             ],
             [
              0.2222222222222222,
              "#7201a8"
             ],
             [
              0.3333333333333333,
              "#9c179e"
             ],
             [
              0.4444444444444444,
              "#bd3786"
             ],
             [
              0.5555555555555556,
              "#d8576b"
             ],
             [
              0.6666666666666666,
              "#ed7953"
             ],
             [
              0.7777777777777778,
              "#fb9f3a"
             ],
             [
              0.8888888888888888,
              "#fdca26"
             ],
             [
              1,
              "#f0f921"
             ]
            ],
            "type": "histogram2dcontour"
           }
          ],
          "mesh3d": [
           {
            "colorbar": {
             "outlinewidth": 0,
             "ticks": ""
            },
            "type": "mesh3d"
           }
          ],
          "parcoords": [
           {
            "line": {
             "colorbar": {
              "outlinewidth": 0,
              "ticks": ""
             }
            },
            "type": "parcoords"
           }
          ],
          "pie": [
           {
            "automargin": true,
            "type": "pie"
           }
          ],
          "scatter": [
           {
            "fillpattern": {
             "fillmode": "overlay",
             "size": 10,
             "solidity": 0.2
            },
            "type": "scatter"
           }
          ],
          "scatter3d": [
           {
            "line": {
             "colorbar": {
              "outlinewidth": 0,
              "ticks": ""
             }
            },
            "marker": {
             "colorbar": {
              "outlinewidth": 0,
              "ticks": ""
             }
            },
            "type": "scatter3d"
           }
          ],
          "scattercarpet": [
           {
            "marker": {
             "colorbar": {
              "outlinewidth": 0,
              "ticks": ""
             }
            },
            "type": "scattercarpet"
           }
          ],
          "scattergeo": [
           {
            "marker": {
             "colorbar": {
              "outlinewidth": 0,
              "ticks": ""
             }
            },
            "type": "scattergeo"
           }
          ],
          "scattergl": [
           {
            "marker": {
             "colorbar": {
              "outlinewidth": 0,
              "ticks": ""
             }
            },
            "type": "scattergl"
           }
          ],
          "scattermapbox": [
           {
            "marker": {
             "colorbar": {
              "outlinewidth": 0,
              "ticks": ""
             }
            },
            "type": "scattermapbox"
           }
          ],
          "scatterpolar": [
           {
            "marker": {
             "colorbar": {
              "outlinewidth": 0,
              "ticks": ""
             }
            },
            "type": "scatterpolar"
           }
          ],
          "scatterpolargl": [
           {
            "marker": {
             "colorbar": {
              "outlinewidth": 0,
              "ticks": ""
             }
            },
            "type": "scatterpolargl"
           }
          ],
          "scatterternary": [
           {
            "marker": {
             "colorbar": {
              "outlinewidth": 0,
              "ticks": ""
             }
            },
            "type": "scatterternary"
           }
          ],
          "surface": [
           {
            "colorbar": {
             "outlinewidth": 0,
             "ticks": ""
            },
            "colorscale": [
             [
              0,
              "#0d0887"
             ],
             [
              0.1111111111111111,
              "#46039f"
             ],
             [
              0.2222222222222222,
              "#7201a8"
             ],
             [
              0.3333333333333333,
              "#9c179e"
             ],
             [
              0.4444444444444444,
              "#bd3786"
             ],
             [
              0.5555555555555556,
              "#d8576b"
             ],
             [
              0.6666666666666666,
              "#ed7953"
             ],
             [
              0.7777777777777778,
              "#fb9f3a"
             ],
             [
              0.8888888888888888,
              "#fdca26"
             ],
             [
              1,
              "#f0f921"
             ]
            ],
            "type": "surface"
           }
          ],
          "table": [
           {
            "cells": {
             "fill": {
              "color": "#EBF0F8"
             },
             "line": {
              "color": "white"
             }
            },
            "header": {
             "fill": {
              "color": "#C8D4E3"
             },
             "line": {
              "color": "white"
             }
            },
            "type": "table"
           }
          ]
         },
         "layout": {
          "annotationdefaults": {
           "arrowcolor": "#2a3f5f",
           "arrowhead": 0,
           "arrowwidth": 1
          },
          "autotypenumbers": "strict",
          "coloraxis": {
           "colorbar": {
            "outlinewidth": 0,
            "ticks": ""
           }
          },
          "colorscale": {
           "diverging": [
            [
             0,
             "#8e0152"
            ],
            [
             0.1,
             "#c51b7d"
            ],
            [
             0.2,
             "#de77ae"
            ],
            [
             0.3,
             "#f1b6da"
            ],
            [
             0.4,
             "#fde0ef"
            ],
            [
             0.5,
             "#f7f7f7"
            ],
            [
             0.6,
             "#e6f5d0"
            ],
            [
             0.7,
             "#b8e186"
            ],
            [
             0.8,
             "#7fbc41"
            ],
            [
             0.9,
             "#4d9221"
            ],
            [
             1,
             "#276419"
            ]
           ],
           "sequential": [
            [
             0,
             "#0d0887"
            ],
            [
             0.1111111111111111,
             "#46039f"
            ],
            [
             0.2222222222222222,
             "#7201a8"
            ],
            [
             0.3333333333333333,
             "#9c179e"
            ],
            [
             0.4444444444444444,
             "#bd3786"
            ],
            [
             0.5555555555555556,
             "#d8576b"
            ],
            [
             0.6666666666666666,
             "#ed7953"
            ],
            [
             0.7777777777777778,
             "#fb9f3a"
            ],
            [
             0.8888888888888888,
             "#fdca26"
            ],
            [
             1,
             "#f0f921"
            ]
           ],
           "sequentialminus": [
            [
             0,
             "#0d0887"
            ],
            [
             0.1111111111111111,
             "#46039f"
            ],
            [
             0.2222222222222222,
             "#7201a8"
            ],
            [
             0.3333333333333333,
             "#9c179e"
            ],
            [
             0.4444444444444444,
             "#bd3786"
            ],
            [
             0.5555555555555556,
             "#d8576b"
            ],
            [
             0.6666666666666666,
             "#ed7953"
            ],
            [
             0.7777777777777778,
             "#fb9f3a"
            ],
            [
             0.8888888888888888,
             "#fdca26"
            ],
            [
             1,
             "#f0f921"
            ]
           ]
          },
          "colorway": [
           "#636efa",
           "#EF553B",
           "#00cc96",
           "#ab63fa",
           "#FFA15A",
           "#19d3f3",
           "#FF6692",
           "#B6E880",
           "#FF97FF",
           "#FECB52"
          ],
          "font": {
           "color": "#2a3f5f"
          },
          "geo": {
           "bgcolor": "white",
           "lakecolor": "white",
           "landcolor": "#E5ECF6",
           "showlakes": true,
           "showland": true,
           "subunitcolor": "white"
          },
          "hoverlabel": {
           "align": "left"
          },
          "hovermode": "closest",
          "mapbox": {
           "style": "light"
          },
          "paper_bgcolor": "white",
          "plot_bgcolor": "#E5ECF6",
          "polar": {
           "angularaxis": {
            "gridcolor": "white",
            "linecolor": "white",
            "ticks": ""
           },
           "bgcolor": "#E5ECF6",
           "radialaxis": {
            "gridcolor": "white",
            "linecolor": "white",
            "ticks": ""
           }
          },
          "scene": {
           "xaxis": {
            "backgroundcolor": "#E5ECF6",
            "gridcolor": "white",
            "gridwidth": 2,
            "linecolor": "white",
            "showbackground": true,
            "ticks": "",
            "zerolinecolor": "white"
           },
           "yaxis": {
            "backgroundcolor": "#E5ECF6",
            "gridcolor": "white",
            "gridwidth": 2,
            "linecolor": "white",
            "showbackground": true,
            "ticks": "",
            "zerolinecolor": "white"
           },
           "zaxis": {
            "backgroundcolor": "#E5ECF6",
            "gridcolor": "white",
            "gridwidth": 2,
            "linecolor": "white",
            "showbackground": true,
            "ticks": "",
            "zerolinecolor": "white"
           }
          },
          "shapedefaults": {
           "line": {
            "color": "#2a3f5f"
           }
          },
          "ternary": {
           "aaxis": {
            "gridcolor": "white",
            "linecolor": "white",
            "ticks": ""
           },
           "baxis": {
            "gridcolor": "white",
            "linecolor": "white",
            "ticks": ""
           },
           "bgcolor": "#E5ECF6",
           "caxis": {
            "gridcolor": "white",
            "linecolor": "white",
            "ticks": ""
           }
          },
          "title": {
           "x": 0.05
          },
          "xaxis": {
           "automargin": true,
           "gridcolor": "white",
           "linecolor": "white",
           "ticks": "",
           "title": {
            "standoff": 15
           },
           "zerolinecolor": "white",
           "zerolinewidth": 2
          },
          "yaxis": {
           "automargin": true,
           "gridcolor": "white",
           "linecolor": "white",
           "ticks": "",
           "title": {
            "standoff": 15
           },
           "zerolinecolor": "white",
           "zerolinewidth": 2
          }
         }
        },
        "title": {
         "text": "IMF"
        },
        "updatemenus": [
         {
          "active": 2,
          "buttons": [
           {
            "args": [
             {
              "visible": [
               true,
               true,
               false,
               false,
               false,
               false,
               false
              ]
             }
            ],
            "label": "Data",
            "method": "update"
           },
           {
            "args": [
             {
              "visible": [
               true,
               false,
               true,
               false,
               false,
               false,
               false
              ]
             }
            ],
            "label": "Salpeter",
            "method": "update"
           },
           {
            "args": [
             {
              "visible": [
               true,
               false,
               false,
               true,
               false,
               false,
               false
              ]
             }
            ],
            "label": "Lognormal",
            "method": "update"
           },
           {
            "args": [
             {
              "visible": [
               true,
               false,
               false,
               false,
               true,
               false,
               false
              ]
             }
            ],
            "label": "Chabrier",
            "method": "update"
           },
           {
            "args": [
             {
              "visible": [
               true,
               false,
               false,
               false,
               false,
               true,
               false
              ]
             }
            ],
            "label": "Tapered",
            "method": "update"
           },
           {
            "args": [
             {
              "visible": [
               true,
               false,
               false,
               false,
               false,
               false,
               true
              ]
             }
            ],
            "label": "Kroupa",
            "method": "update"
           }
          ],
          "direction": "down",
          "type": "dropdown",
          "x": 1,
          "y": 1
         }
        ],
        "width": 800,
        "xaxis": {
         "autorange": false,
         "range": [
          -1.5981475506539002,
          -0.3102950422310169
         ],
         "title": {
          "text": "log(M/Msun)"
         },
         "type": "linear"
        },
        "yaxis": {
         "autorange": false,
         "range": [
          2.2433006462643315,
          3.022146127854021
         ],
         "title": {
          "text": "log(N)"
         },
         "type": "log"
        }
       }
      },
      "image/png": "[encoded data removed]",
      "text/html": [
       "<div>                            <div id=\"78c1c375-ad24-409d-9e3d-17b23fdde986\" class=\"plotly-graph-div\" style=\"height:600px; width:800px;\"></div>            <script type=\"text/javascript\">                require([\"plotly\"], function(Plotly) {                    window.PLOTLYENV=window.PLOTLYENV || {};                                    if (document.getElementById(\"78c1c375-ad24-409d-9e3d-17b23fdde986\")) {                    Plotly.newPlot(                        \"78c1c375-ad24-409d-9e3d-17b23fdde986\",                        [{\"error_y\":{\"array\":[4.0,6.48074069840786,9.899494936611665,15.524174696260024,18.841443681416774,24.145392935299274,28.26658805020514,33.301651610693426,35.12833614050059,36.4417343165772,35.4964786985977,32.01562118716424,28.21347195933177,22.825424421026653,17.08800749063506,12.36931687685298,8.660254037844387,6.557438524302,3.605551275463989,2.23606797749979],\"type\":\"data\",\"visible\":true},\"marker\":{\"color\":[-1.9155017838492836,-1.7591078898440506,-1.6027139958388177,-1.4463201018335845,-1.2899262078283515,-1.1335323138231184,-0.9771384198178854,-0.8207445258126524,-0.6643506318074195,-0.5079567378021865,-0.35156284379695346,-0.1951689497917204,-0.03877505578648732,0.11761883821874575,0.2740127322239787,0.43040662622921166,0.5868005202344446,0.7431944142396776,0.8995883082449105,1.0559822022501435],\"colorscale\":[[0.0,\"rgb(150,0,90)\"],[0.125,\"rgb(0,0,200)\"],[0.25,\"rgb(0,25,255)\"],[0.375,\"rgb(0,152,255)\"],[0.5,\"rgb(44,255,150)\"],[0.625,\"rgb(151,255,0)\"],[0.75,\"rgb(255,234,0)\"],[0.875,\"rgb(255,111,0)\"],[1.0,\"rgb(255,0,0)\"]],\"reversescale\":true,\"showscale\":false,\"size\":8,\"symbol\":\"hexagram\"},\"mode\":\"markers\",\"name\":\"Data\",\"x\":[-1.9155017838492836,-1.7591078898440506,-1.6027139958388177,-1.4463201018335845,-1.2899262078283515,-1.1335323138231184,-0.9771384198178854,-0.8207445258126524,-0.6643506318074195,-0.5079567378021865,-0.35156284379695346,-0.1951689497917204,-0.03877505578648732,0.11761883821874575,0.2740127322239787,0.43040662622921166,0.5868005202344446,0.7431944142396776,0.8995883082449105,1.0559822022501435],\"y\":[16,42,98,241,355,583,799,1109,1234,1328,1260,1025,796,521,292,153,75,43,13,5],\"type\":\"scatter\",\"visible\":true},{\"line\":{\"color\":\"black\"},\"mode\":\"lines\",\"name\":\"Data\",\"visible\":false,\"x\":[-1.9155017838492836,-1.7591078898440506,-1.6027139958388177,-1.4463201018335845,-1.2899262078283515,-1.1335323138231184,-0.9771384198178854,-0.8207445258126524,-0.6643506318074195,-0.5079567378021865,-0.35156284379695346,-0.1951689497917204,-0.03877505578648732,0.11761883821874575,0.2740127322239787,0.43040662622921166,0.5868005202344446,0.7431944142396776,0.8995883082449105,1.0559822022501435],\"y\":[1.2041199826559248,1.6232492903979006,1.9912260756924949,2.3820170425748683,2.550228353055094,2.765668554759014,2.902546779313991,3.04493154614916,3.091315159697223,3.1231980750319988,3.100370545117563,3.010723865391773,2.900913067737669,2.7168377232995247,2.4653828514484184,2.184691430817599,1.8750612633917,1.6334684555795864,1.1139433523068367,0.6989700043360189],\"type\":\"scatter\"},{\"line\":{\"color\":\"black\"},\"mode\":\"lines\",\"name\":\"Salpeter\",\"visible\":false,\"x\":[-1.9155017838492836,-1.7591078898440506,-1.6027139958388177,-1.4463201018335845,-1.2899262078283515,-1.1335323138231184,-0.9771384198178854,-0.8207445258126524,-0.6643506318074195,-0.5079567378021865,-0.35156284379695346,-0.1951689497917204,-0.03877505578648732,0.11761883821874575,0.2740127322239787,0.43040662622921166,0.5868005202344446,0.7431944142396776,0.8995883082449105,1.0559822022501435],\"y\":[1717024.2229465593,921382.066548796,494428.0349760406,265317.8205279537,142373.69426900454,76399.95225148588,40997.40990776596,21999.851696408587,11805.46468064293,6334.9970831239425,3399.4585667595443,1824.2026626815987,978.895694471341,525.2907477099668,281.8792351300657,151.2608085025353,81.1689168174568,43.55651092006951,23.373105345199274,12.542374077673506],\"type\":\"scatter\"},{\"line\":{\"color\":\"black\"},\"mode\":\"lines\",\"name\":\"Lognormal\",\"visible\":false,\"x\":[-1.9155017838492836,-1.7591078898440506,-1.6027139958388177,-1.4463201018335845,-1.2899262078283515,-1.1335323138231184,-0.9771384198178854,-0.8207445258126524,-0.6643506318074195,-0.5079567378021865,-0.35156284379695346,-0.1951689497917204,-0.03877505578648732,0.11761883821874575,0.2740127322239787,0.43040662622921166,0.5868005202344446,0.7431944142396776,0.8995883082449105,1.0559822022501435],\"y\":[17.084067028297643,43.00543232527312,96.97930761838323,195.9108777611382,354.537135740012,574.76276204039,834.7169346779826,1085.959267636584,1265.6439790303389,1321.3969161782297,1235.8869045407437,1035.4947040073216,777.214230321302,522.5854518448457,314.7730897351291,169.84845030582073,82.10115947392921,35.551726994780616,13.791002084548685,4.7924176171303765],\"type\":\"scatter\"},{\"line\":{\"color\":\"black\"},\"mode\":\"lines\",\"name\":\"Chabrier\",\"visible\":false,\"x\":[-1.9155017838492836,-1.7591078898440506,-1.6027139958388177,-1.4463201018335845,-1.2899262078283515,-1.1335323138231184,-0.9771384198178854,-0.8207445258126524,-0.6643506318074195,-0.5079567378021865,-0.35156284379695346,-0.1951689497917204,-0.03877505578648732,0.11761883821874575,0.2740127322239787,0.43040662622921166,0.5868005202344446,0.7431944142396776,0.8995883082449105,1.0559822022501435],\"y\":[19.54793383503907,47.5213970053202,103.99360579390468,204.85811539999418,363.2693927893706,579.8738731005795,833.234749772467,1077.7804575163839,1254.9381851503354,1315.3564609868197,1241.062603130704,1054.0786447335522,805.9005254848072,489.03569960180573,281.0039227413313,161.46715804247293,92.78035292878205,53.31235152677319,30.633714311217442,17.602383418221873],\"type\":\"scatter\"},{\"line\":{\"color\":\"black\"},\"mode\":\"lines\",\"name\":\"Tapered\",\"visible\":false,\"x\":[-1.9155017838492836,-1.7591078898440506,-1.6027139958388177,-1.4463201018335845,-1.2899262078283515,-1.1335323138231184,-0.9771384198178854,-0.8207445258126524,-0.6643506318074195,-0.5079567378021865,-0.35156284379695346,-0.1951689497917204,-0.03877505578648732,0.11761883821874575,0.2740127322239787,0.43040662622921166,0.5868005202344446,0.7431944142396776,0.8995883082449105,1.0559822022501435],\"y\":[93.3703006515833,133.20828085574692,189.88132299321802,270.18422190536415,383.02756071558366,538.8491212434374,746.1679298292702,1000.5429311172322,1258.9500212378482,1407.874889075871,1305.8571395889708,990.1626232445597,684.4071702268177,468.81970361737274,321.1242096291992,219.95824210327103,150.66328485487676,103.19879439936737,70.6873686959718,48.418240951765284],\"type\":\"scatter\"},{\"line\":{\"color\":\"black\"},\"mode\":\"lines\",\"name\":\"Kroupa\",\"visible\":false,\"x\":[-1.9155017838492836,-1.7591078898440506,-1.6027139958388177,-1.4463201018335845,-1.2899262078283515,-1.1335323138231184,-0.9771384198178854,-0.8207445258126524,-0.6643506318074195,-0.5079567378021865,-0.35156284379695346,-0.1951689497917204,-0.03877505578648732,0.11761883821874575,0.2740127322239787,0.43040662622921166,0.5868005202344446,0.7431944142396776,0.8995883082449105,1.0559822022501435],\"y\":[149.10363289760366,176.0623061816988,207.89524075047837,245.4837271192805,289.8683974815076,342.27803547104446,1079.255962185642,1089.0034743421927,1098.8390230689095,1108.7634034853638,1118.777417892405,954.8948152027846,1101.8210998194534,601.5287453746865,256.5999196697236,109.46030307079558,46.693537409412244,19.9185126903407,8.496832105834189,3.624575637604985],\"type\":\"scatter\"}],                        {\"template\":{\"data\":{\"histogram2dcontour\":[{\"type\":\"histogram2dcontour\",\"colorbar\":{\"outlinewidth\":0,\"ticks\":\"\"},\"colorscale\":[[0.0,\"#0d0887\"],[0.1111111111111111,\"#46039f\"],[0.2222222222222222,\"#7201a8\"],[0.3333333333333333,\"#9c179e\"],[0.4444444444444444,\"#bd3786\"],[0.5555555555555556,\"#d8576b\"],[0.6666666666666666,\"#ed7953\"],[0.7777777777777778,\"#fb9f3a\"],[0.8888888888888888,\"#fdca26\"],[1.0,\"#f0f921\"]]}],\"choropleth\":[{\"type\":\"choropleth\",\"colorbar\":{\"outlinewidth\":0,\"ticks\":\"\"}}],\"histogram2d\":[{\"type\":\"histogram2d\",\"colorbar\":{\"outlinewidth\":0,\"ticks\":\"\"},\"colorscale\":[[0.0,\"#0d0887\"],[0.1111111111111111,\"#46039f\"],[0.2222222222222222,\"#7201a8\"],[0.3333333333333333,\"#9c179e\"],[0.4444444444444444,\"#bd3786\"],[0.5555555555555556,\"#d8576b\"],[0.6666666666666666,\"#ed7953\"],[0.7777777777777778,\"#fb9f3a\"],[0.8888888888888888,\"#fdca26\"],[1.0,\"#f0f921\"]]}],\"heatmap\":[{\"type\":\"heatmap\",\"colorbar\":{\"outlinewidth\":0,\"ticks\":\"\"},\"colorscale\":[[0.0,\"#0d0887\"],[0.1111111111111111,\"#46039f\"],[0.2222222222222222,\"#7201a8\"],[0.3333333333333333,\"#9c179e\"],[0.4444444444444444,\"#bd3786\"],[0.5555555555555556,\"#d8576b\"],[0.6666666666666666,\"#ed7953\"],[0.7777777777777778,\"#fb9f3a\"],[0.8888888888888888,\"#fdca26\"],[1.0,\"#f0f921\"]]}],\"heatmapgl\":[{\"type\":\"heatmapgl\",\"colorbar\":{\"outlinewidth\":0,\"ticks\":\"\"},\"colorscale\":[[0.0,\"#0d0887\"],[0.1111111111111111,\"#46039f\"],[0.2222222222222222,\"#7201a8\"],[0.3333333333333333,\"#9c179e\"],[0.4444444444444444,\"#bd3786\"],[0.5555555555555556,\"#d8576b\"],[0.6666666666666666,\"#ed7953\"],[0.7777777777777778,\"#fb9f3a\"],[0.8888888888888888,\"#fdca26\"],[1.0,\"#f0f921\"]]}],\"contourcarpet\":[{\"type\":\"contourcarpet\",\"colorbar\":{\"outlinewidth\":0,\"ticks\":\"\"}}],\"contour\":[{\"type\":\"contour\",\"colorbar\":{\"outlinewidth\":0,\"ticks\":\"\"},\"colorscale\":[[0.0,\"#0d0887\"],[0.1111111111111111,\"#46039f\"],[0.2222222222222222,\"#7201a8\"],[0.3333333333333333,\"#9c179e\"],[0.4444444444444444,\"#bd3786\"],[0.5555555555555556,\"#d8576b\"],[0.6666666666666666,\"#ed7953\"],[0.7777777777777778,\"#fb9f3a\"],[0.8888888888888888,\"#fdca26\"],[1.0,\"#f0f921\"]]}],\"surface\":[{\"type\":\"surface\",\"colorbar\":{\"outlinewidth\":0,\"ticks\":\"\"},\"colorscale\":[[0.0,\"#0d0887\"],[0.1111111111111111,\"#46039f\"],[0.2222222222222222,\"#7201a8\"],[0.3333333333333333,\"#9c179e\"],[0.4444444444444444,\"#bd3786\"],[0.5555555555555556,\"#d8576b\"],[0.6666666666666666,\"#ed7953\"],[0.7777777777777778,\"#fb9f3a\"],[0.8888888888888888,\"#fdca26\"],[1.0,\"#f0f921\"]]}],\"mesh3d\":[{\"type\":\"mesh3d\",\"colorbar\":{\"outlinewidth\":0,\"ticks\":\"\"}}],\"scatter\":[{\"fillpattern\":{\"fillmode\":\"overlay\",\"size\":10,\"solidity\":0.2},\"type\":\"scatter\"}],\"parcoords\":[{\"type\":\"parcoords\",\"line\":{\"colorbar\":{\"outlinewidth\":0,\"ticks\":\"\"}}}],\"scatterpolargl\":[{\"type\":\"scatterpolargl\",\"marker\":{\"colorbar\":{\"outlinewidth\":0,\"ticks\":\"\"}}}],\"bar\":[{\"error_x\":{\"color\":\"#2a3f5f\"},\"error_y\":{\"color\":\"#2a3f5f\"},\"marker\":{\"line\":{\"color\":\"#E5ECF6\",\"width\":0.5},\"pattern\":{\"fillmode\":\"overlay\",\"size\":10,\"solidity\":0.2}},\"type\":\"bar\"}],\"scattergeo\":[{\"type\":\"scattergeo\",\"marker\":{\"colorbar\":{\"outlinewidth\":0,\"ticks\":\"\"}}}],\"scatterpolar\":[{\"type\":\"scatterpolar\",\"marker\":{\"colorbar\":{\"outlinewidth\":0,\"ticks\":\"\"}}}],\"histogram\":[{\"marker\":{\"pattern\":{\"fillmode\":\"overlay\",\"size\":10,\"solidity\":0.2}},\"type\":\"histogram\"}],\"scattergl\":[{\"type\":\"scattergl\",\"marker\":{\"colorbar\":{\"outlinewidth\":0,\"ticks\":\"\"}}}],\"scatter3d\":[{\"type\":\"scatter3d\",\"line\":{\"colorbar\":{\"outlinewidth\":0,\"ticks\":\"\"}},\"marker\":{\"colorbar\":{\"outlinewidth\":0,\"ticks\":\"\"}}}],\"scattermapbox\":[{\"type\":\"scattermapbox\",\"marker\":{\"colorbar\":{\"outlinewidth\":0,\"ticks\":\"\"}}}],\"scatterternary\":[{\"type\":\"scatterternary\",\"marker\":{\"colorbar\":{\"outlinewidth\":0,\"ticks\":\"\"}}}],\"scattercarpet\":[{\"type\":\"scattercarpet\",\"marker\":{\"colorbar\":{\"outlinewidth\":0,\"ticks\":\"\"}}}],\"carpet\":[{\"aaxis\":{\"endlinecolor\":\"#2a3f5f\",\"gridcolor\":\"white\",\"linecolor\":\"white\",\"minorgridcolor\":\"white\",\"startlinecolor\":\"#2a3f5f\"},\"baxis\":{\"endlinecolor\":\"#2a3f5f\",\"gridcolor\":\"white\",\"linecolor\":\"white\",\"minorgridcolor\":\"white\",\"startlinecolor\":\"#2a3f5f\"},\"type\":\"carpet\"}],\"table\":[{\"cells\":{\"fill\":{\"color\":\"#EBF0F8\"},\"line\":{\"color\":\"white\"}},\"header\":{\"fill\":{\"color\":\"#C8D4E3\"},\"line\":{\"color\":\"white\"}},\"type\":\"table\"}],\"barpolar\":[{\"marker\":{\"line\":{\"color\":\"#E5ECF6\",\"width\":0.5},\"pattern\":{\"fillmode\":\"overlay\",\"size\":10,\"solidity\":0.2}},\"type\":\"barpolar\"}],\"pie\":[{\"automargin\":true,\"type\":\"pie\"}]},\"layout\":{\"autotypenumbers\":\"strict\",\"colorway\":[\"#636efa\",\"#EF553B\",\"#00cc96\",\"#ab63fa\",\"#FFA15A\",\"#19d3f3\",\"#FF6692\",\"#B6E880\",\"#FF97FF\",\"#FECB52\"],\"font\":{\"color\":\"#2a3f5f\"},\"hovermode\":\"closest\",\"hoverlabel\":{\"align\":\"left\"},\"paper_bgcolor\":\"white\",\"plot_bgcolor\":\"#E5ECF6\",\"polar\":{\"bgcolor\":\"#E5ECF6\",\"angularaxis\":{\"gridcolor\":\"white\",\"linecolor\":\"white\",\"ticks\":\"\"},\"radialaxis\":{\"gridcolor\":\"white\",\"linecolor\":\"white\",\"ticks\":\"\"}},\"ternary\":{\"bgcolor\":\"#E5ECF6\",\"aaxis\":{\"gridcolor\":\"white\",\"linecolor\":\"white\",\"ticks\":\"\"},\"baxis\":{\"gridcolor\":\"white\",\"linecolor\":\"white\",\"ticks\":\"\"},\"caxis\":{\"gridcolor\":\"white\",\"linecolor\":\"white\",\"ticks\":\"\"}},\"coloraxis\":{\"colorbar\":{\"outlinewidth\":0,\"ticks\":\"\"}},\"colorscale\":{\"sequential\":[[0.0,\"#0d0887\"],[0.1111111111111111,\"#46039f\"],[0.2222222222222222,\"#7201a8\"],[0.3333333333333333,\"#9c179e\"],[0.4444444444444444,\"#bd3786\"],[0.5555555555555556,\"#d8576b\"],[0.6666666666666666,\"#ed7953\"],[0.7777777777777778,\"#fb9f3a\"],[0.8888888888888888,\"#fdca26\"],[1.0,\"#f0f921\"]],\"sequentialminus\":[[0.0,\"#0d0887\"],[0.1111111111111111,\"#46039f\"],[0.2222222222222222,\"#7201a8\"],[0.3333333333333333,\"#9c179e\"],[0.4444444444444444,\"#bd3786\"],[0.5555555555555556,\"#d8576b\"],[0.6666666666666666,\"#ed7953\"],[0.7777777777777778,\"#fb9f3a\"],[0.8888888888888888,\"#fdca26\"],[1.0,\"#f0f921\"]],\"diverging\":[[0,\"#8e0152\"],[0.1,\"#c51b7d\"],[0.2,\"#de77ae\"],[0.3,\"#f1b6da\"],[0.4,\"#fde0ef\"],[0.5,\"#f7f7f7\"],[0.6,\"#e6f5d0\"],[0.7,\"#b8e186\"],[0.8,\"#7fbc41\"],[0.9,\"#4d9221\"],[1,\"#276419\"]]},\"xaxis\":{\"gridcolor\":\"white\",\"linecolor\":\"white\",\"ticks\":\"\",\"title\":{\"standoff\":15},\"zerolinecolor\":\"white\",\"automargin\":true,\"zerolinewidth\":2},\"yaxis\":{\"gridcolor\":\"white\",\"linecolor\":\"white\",\"ticks\":\"\",\"title\":{\"standoff\":15},\"zerolinecolor\":\"white\",\"automargin\":true,\"zerolinewidth\":2},\"scene\":{\"xaxis\":{\"backgroundcolor\":\"#E5ECF6\",\"gridcolor\":\"white\",\"linecolor\":\"white\",\"showbackground\":true,\"ticks\":\"\",\"zerolinecolor\":\"white\",\"gridwidth\":2},\"yaxis\":{\"backgroundcolor\":\"#E5ECF6\",\"gridcolor\":\"white\",\"linecolor\":\"white\",\"showbackground\":true,\"ticks\":\"\",\"zerolinecolor\":\"white\",\"gridwidth\":2},\"zaxis\":{\"backgroundcolor\":\"#E5ECF6\",\"gridcolor\":\"white\",\"linecolor\":\"white\",\"showbackground\":true,\"ticks\":\"\",\"zerolinecolor\":\"white\",\"gridwidth\":2}},\"shapedefaults\":{\"line\":{\"color\":\"#2a3f5f\"}},\"annotationdefaults\":{\"arrowcolor\":\"#2a3f5f\",\"arrowhead\":0,\"arrowwidth\":1},\"geo\":{\"bgcolor\":\"white\",\"landcolor\":\"#E5ECF6\",\"subunitcolor\":\"white\",\"showland\":true,\"showlakes\":true,\"lakecolor\":\"white\"},\"title\":{\"x\":0.05},\"mapbox\":{\"style\":\"light\"}}},\"yaxis\":{\"type\":\"log\",\"title\":{\"text\":\"log(N)\"}},\"updatemenus\":[{\"buttons\":[{\"args\":[{\"visible\":[true,true,false,false,false,false,false]}],\"label\":\"Data\",\"method\":\"update\"},{\"args\":[{\"visible\":[true,false,true,false,false,false,false]}],\"label\":\"Salpeter\",\"method\":\"update\"},{\"args\":[{\"visible\":[true,false,false,true,false,false,false]}],\"label\":\"Lognormal\",\"method\":\"update\"},{\"args\":[{\"visible\":[true,false,false,false,true,false,false]}],\"label\":\"Chabrier\",\"method\":\"update\"},{\"args\":[{\"visible\":[true,false,false,false,false,true,false]}],\"label\":\"Tapered\",\"method\":\"update\"},{\"args\":[{\"visible\":[true,false,false,false,false,false,true]}],\"label\":\"Kroupa\",\"method\":\"update\"}],\"direction\":\"down\",\"type\":\"dropdown\",\"x\":1,\"y\":1}],\"title\":{\"text\":\"IMF\"},\"xaxis\":{\"title\":{\"text\":\"log(M\\u002fMsun)\"}},\"height\":600,\"width\":800},                        {\"responsive\": true}                    ).then(function(){\n",
       "                            \n",
       "var gd = document.getElementById('78c1c375-ad24-409d-9e3d-17b23fdde986');\n",
       "var x = new MutationObserver(function (mutations, observer) {{\n",
       "        var display = window.getComputedStyle(gd).display;\n",
       "        if (!display || display === 'none') {{\n",
       "            console.log([gd, 'removed!']);\n",
       "            Plotly.purge(gd);\n",
       "            observer.disconnect();\n",
       "        }}\n",
       "}});\n",
       "\n",
       "// Listen for the removal of the full notebook cells\n",
       "var notebookContainer = gd.closest('#notebook-container');\n",
       "if (notebookContainer) {{\n",
       "    x.observe(notebookContainer, {childList: true});\n",
       "}}\n",
       "\n",
       "// Listen for the clearing of the current output cell\n",
       "var outputEl = gd.closest('.output');\n",
       "if (outputEl) {{\n",
       "    x.observe(outputEl, {childList: true});\n",
       "}}\n",
       "\n",
       "                        })                };                });            </script>        </div>"
      ]
     },
     "metadata": {},
     "output_type": "display_data"
    }
   ],
   "source": [
    "import pandas as pd\n",
    "import numpy as np\n",
    "import matplotlib.pyplot as plt\n",
    "import scipy.optimize as sc\n",
    "import plotly.graph_objects as go\n",
    "\n",
    "\n",
    "\n",
    "def powerlaw(x,c,gamma):\n",
    "    return(c*x**(-gamma))\n",
    "    \n",
    "def two_segment_powerlaw(x,gamma1,gamma2,c):\n",
    "    return(np.piecewise(x,[x<0.4,x>0.4],[lambda x: c*x**(-gamma1), lambda x :c*(0.4)**(gamma2-gamma1)*x**(-gamma2)]))\n",
    "\n",
    "def kroupa(x,gamma1,gamma2,gamma3,gamma4,c):\n",
    "    return(np.piecewise(x,[(x >= 0.01) & (x < 0.08), (x >= 0.08) & (x < 0.5), (x >= 0.5) & (x < 1), x >= 1], [lambda x : c*x**(-gamma1), lambda x : c*x**(-gamma2), lambda x: c*x**(-gamma3), lambda x : c*x**(-gamma4)]))\n",
    " \n",
    "def lognormal_and_powerlaw(x,c,logmc,sigma,gamma):\n",
    "    return(np.piecewise(x,[x<1,x>1],[lambda x: c*np.e**(-(np.log10(x)-logmc)**2/(2*sigma**2)), lambda x :(c*np.e**(-(logmc**2)/(2*sigma**2)))*x**(-gamma)]))\n",
    "    \n",
    "def tapered_powerlaw(x,c,gamma,mp,beta):\n",
    "    return(((c*x**(-gamma))*(1-np.e**(-(x/mp)**beta))))\n",
    "    \n",
    "def lognormal(x,c,logmc,sigma):\n",
    "    return(c*np.e**(-(np.log10(x)-logmc)**2/(2*sigma**2)))\n",
    "\n",
    "#-----------------------------------------------------------------------------------------\n",
    "hist_data = np.histogram(dt['log(M)'], bins=20) \n",
    "mass_function_data = [hist_data[0], 0.5 * (hist_data[1][1:] + hist_data[1][:-1])] #promedio de los puntos para evitar que se corra el hist\n",
    "\n",
    "xdata = mass_function_data[1]\n",
    "ydata = mass_function_data[0]\n",
    "#-----------------------------------------------------------------------------------------\n",
    "mask=xdata>0\n",
    "salpeter = sc.curve_fit(powerlaw,10**xdata[mask],ydata[mask])\n",
    "\n",
    "lognorm = sc.curve_fit(lognormal,10**xdata,ydata)\n",
    "\n",
    "chabrier =sc.curve_fit(lognormal_and_powerlaw, 10**xdata,ydata)\n",
    "\n",
    "tapered =sc.curve_fit(tapered_powerlaw, 10**xdata, ydata)\n",
    "\n",
    "kroupa_fit =sc.curve_fit(kroupa, 10**xdata, ydata)\n",
    "#-----------------------------------------------------------------------------------------\n",
    "\n",
    "dt_fit = {\n",
    "    'Data': mass_function_data,\n",
    "    'Salpeter': salpeter,\n",
    "    'Lognormal': lognorm,\n",
    "    'Chabrier': chabrier,\n",
    "    'Tapered': tapered,\n",
    "    'Kroupa': kroupa_fit\n",
    "}\n",
    "\n",
    "buttons = []\n",
    "i = 0\n",
    "\n",
    "fig = go.Figure()\n",
    "\n",
    "fig.add_trace(go.Scatter(\n",
    "    x=xdata,\n",
    "    y=ydata,\n",
    "    mode='markers',\n",
    "    name='Data',\n",
    "    marker=dict(size=8, \n",
    "                color=xdata, \n",
    "                colorscale='Rainbow',\n",
    "                symbol='hexagram',\n",
    "                showscale=False,\n",
    "                reversescale=True),\n",
    "    error_y=dict(\n",
    "        type='data',\n",
    "        array=np.sqrt(ydata),  # y-error based on the square root of ydata\n",
    "        visible=True\n",
    "    )\n",
    "))\n",
    "\n",
    "for name, fits in dt_fit.items():\n",
    "    if name == 'Data':\n",
    "        fit_y = np.log10(ydata)\n",
    "    elif name == 'Salpeter':\n",
    "        fit_y = powerlaw(10**xdata, *fits[0])\n",
    "    elif name == 'Lognormal':\n",
    "        fit_y = lognormal(10**xdata, *fits[0])\n",
    "    elif name == 'Chabrier':\n",
    "        fit_y = lognormal_and_powerlaw(10**xdata, *fits[0])\n",
    "    elif name == 'Tapered':\n",
    "        fit_y = tapered_powerlaw(10**xdata, *fits[0])\n",
    "    elif name == 'Kroupa':\n",
    "        fit_y = kroupa(10**xdata, *fits[0])\n",
    "\n",
    "    fig.add_trace(go.Scatter(\n",
    "        x=xdata,\n",
    "        y=fit_y,\n",
    "        mode='lines',\n",
    "        line_color='black',\n",
    "        name=name,\n",
    "        visible=False  # Initially hide all traces\n",
    "\n",
    "        \n",
    "    ))\n",
    "    \n",
    "    visibility_list = [True] + [False] * len(dt_fit)\n",
    "    visibility_list[i + 1] = True  # Set the current fit to be visible\n",
    "    buttons.append(dict(\n",
    "        label=name,\n",
    "        method='update',\n",
    "        args=[{'visible': visibility_list}]\n",
    "    ))\n",
    "    i += 1\n",
    "\n",
    "# Make the first trace visible\n",
    "fig.data[0].visible = True\n",
    "fig.update_yaxes(type='log')\n",
    "fig.update_layout(\n",
    "    updatemenus=[\n",
    "        dict(\n",
    "            type='dropdown',\n",
    "            direction='down',\n",
    "            x=1,\n",
    "            y=1,\n",
    "            buttons=buttons\n",
    "        )\n",
    "    ],\n",
    "    title='IMF',\n",
    "    xaxis_title='log(M/Msun)',\n",
    "    yaxis_title='log(N)',\n",
    "    height=600,\n",
    "    width=800\n",
    ")\n",
    "\n",
    "\n",
    "fig.show()"
   ]
  },
  {
   "cell_type": "code",
   "execution_count": null,
   "id": "a8c084cc-a8d0-4dda-9ad4-ce3367fdc403",
   "metadata": {},
   "outputs": [],
   "source": []
  },
  {
   "cell_type": "code",
   "execution_count": null,
   "id": "1949416d-1f84-4211-9428-818a546d34e8",
   "metadata": {},
   "outputs": [],
   "source": []
  }
 ],
 "metadata": {
  "kernelspec": {
   "display_name": "Python 3 (ipykernel)",
   "language": "python",
   "name": "python3"
  },
  "language_info": {
   "codemirror_mode": {
    "name": "ipython",
    "version": 3
   },
   "file_extension": ".py",
   "mimetype": "text/x-python",
   "name": "python",
   "nbconvert_exporter": "python",
   "pygments_lexer": "ipython3",
   "version": "3.9.6"
  }
 },
 "nbformat": 4,
 "nbformat_minor": 5
}
